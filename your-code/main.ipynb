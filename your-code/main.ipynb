{
 "cells": [
  {
   "cell_type": "markdown",
   "metadata": {
    "toc": true
   },
   "source": [
    "<h1>Table of Contents<span class=\"tocSkip\"></span></h1>\n",
    "<div class=\"toc\"><ul class=\"toc-item\"><li><span><a href=\"#Data-Cleaning\" data-toc-modified-id=\"Data-Cleaning-1\"><span class=\"toc-item-num\">1&nbsp;&nbsp;</span>Data Cleaning</a></span></li><li><span><a href=\"#Examining-Data-for-Potential-Issues\" data-toc-modified-id=\"Examining-Data-for-Potential-Issues-2\"><span class=\"toc-item-num\">2&nbsp;&nbsp;</span>Examining Data for Potential Issues</a></span></li><li><span><a href=\"#Missing-Values\" data-toc-modified-id=\"Missing-Values-3\"><span class=\"toc-item-num\">3&nbsp;&nbsp;</span>Missing Values</a></span><ul class=\"toc-item\"><li><span><a href=\"#Show-the-number-of-null-values-only-of-the-columns-that-actually-have-null-values\" data-toc-modified-id=\"Show-the-number-of-null-values-only-of-the-columns-that-actually-have-null-values-3.1\"><span class=\"toc-item-num\">3.1&nbsp;&nbsp;</span>Show the number of null values only of the columns that actually have null values</a></span></li><li><span><a href=\"#Remove-the-columns-that-have-more-than-10,000-null-values-in-them\" data-toc-modified-id=\"Remove-the-columns-that-have-more-than-10,000-null-values-in-them-3.2\"><span class=\"toc-item-num\">3.2&nbsp;&nbsp;</span>Remove the columns that have more than 10,000 null values in them</a></span></li><li><span><a href=\"#Create-a-new-dataframe-that-shows-only-the-row-where-displ-is-null.\" data-toc-modified-id=\"Create-a-new-dataframe-that-shows-only-the-row-where-displ-is-null.-3.3\"><span class=\"toc-item-num\">3.3&nbsp;&nbsp;</span>Create a new dataframe that shows only the row where <code>displ</code> is null.</a></span></li><li><span><a href=\"#Fill-nan-values-with-the-most-appropriate-technique\" data-toc-modified-id=\"Fill-nan-values-with-the-most-appropriate-technique-3.4\"><span class=\"toc-item-num\">3.4&nbsp;&nbsp;</span>Fill nan values with the most appropriate technique</a></span></li><li><span><a href=\"#Bonus:\" data-toc-modified-id=\"Bonus:-3.5\"><span class=\"toc-item-num\">3.5&nbsp;&nbsp;</span>Bonus:</a></span></li></ul></li><li><span><a href=\"#Incorrect-Values\" data-toc-modified-id=\"Incorrect-Values-4\"><span class=\"toc-item-num\">4&nbsp;&nbsp;</span>Incorrect Values</a></span><ul class=\"toc-item\"><li><span><a href=\"#Check-similar-rows\" data-toc-modified-id=\"Check-similar-rows-4.1\"><span class=\"toc-item-num\">4.1&nbsp;&nbsp;</span>Check similar rows</a></span></li><li><span><a href=\"#Bonus:\" data-toc-modified-id=\"Bonus:-4.2\"><span class=\"toc-item-num\">4.2&nbsp;&nbsp;</span>Bonus:</a></span></li></ul></li><li><span><a href=\"#Low-Variance-Columns\" data-toc-modified-id=\"Low-Variance-Columns-5\"><span class=\"toc-item-num\">5&nbsp;&nbsp;</span>Low Variance Columns</a></span><ul class=\"toc-item\"><li><span><a href=\"#Use-the-the-drop-method-like-we-did-earlier-in-this-lesson-to-remove-the-non-informative-columns-from-our-data-frame.\" data-toc-modified-id=\"Use-the-the-drop-method-like-we-did-earlier-in-this-lesson-to-remove-the-non-informative-columns-from-our-data-frame.-5.1\"><span class=\"toc-item-num\">5.1&nbsp;&nbsp;</span>Use the the drop method like we did earlier in this lesson to remove the non informative columns from our data frame.</a></span></li></ul></li><li><span><a href=\"#Extreme-Values-and-Outliers\" data-toc-modified-id=\"Extreme-Values-and-Outliers-6\"><span class=\"toc-item-num\">6&nbsp;&nbsp;</span>Extreme Values and Outliers</a></span></li><li><span><a href=\"#Data-Type-Correction\" data-toc-modified-id=\"Data-Type-Correction-7\"><span class=\"toc-item-num\">7&nbsp;&nbsp;</span>Data Type Correction</a></span><ul class=\"toc-item\"><li><span><a href=\"#Check-the-data-type-of-each-column\" data-toc-modified-id=\"Check-the-data-type-of-each-column-7.1\"><span class=\"toc-item-num\">7.1&nbsp;&nbsp;</span>Check the data type of each column</a></span></li><li><span><a href=\"#Cleaning-years\" data-toc-modified-id=\"Cleaning-years-7.2\"><span class=\"toc-item-num\">7.2&nbsp;&nbsp;</span>Cleaning years</a></span></li></ul></li><li><span><a href=\"#Cleaning-Text-and-Removing-Special-Characters\" data-toc-modified-id=\"Cleaning-Text-and-Removing-Special-Characters-8\"><span class=\"toc-item-num\">8&nbsp;&nbsp;</span>Cleaning Text and Removing Special Characters</a></span></li><li><span><a href=\"#Finding-and-Removing-Duplicates\" data-toc-modified-id=\"Finding-and-Removing-Duplicates-9\"><span class=\"toc-item-num\">9&nbsp;&nbsp;</span>Finding and Removing Duplicates</a></span><ul class=\"toc-item\"><li><span><a href=\"#Drop-duplicate-rows-that-are-completely-equal\" data-toc-modified-id=\"Drop-duplicate-rows-that-are-completely-equal-9.1\"><span class=\"toc-item-num\">9.1&nbsp;&nbsp;</span>Drop duplicate rows that are completely equal</a></span></li><li><span><a href=\"#Select-a-subset-of-columns,-remove-all-other-columns,-and-then-use-the-drop_duplicates-method-to-drop-any-duplicate-records-based-on-the-remaining-columns.\" data-toc-modified-id=\"Select-a-subset-of-columns,-remove-all-other-columns,-and-then-use-the-drop_duplicates-method-to-drop-any-duplicate-records-based-on-the-remaining-columns.-9.2\"><span class=\"toc-item-num\">9.2&nbsp;&nbsp;</span>Select a subset of columns, remove all other columns, and then use the drop_duplicates method to drop any duplicate records based on the remaining columns.</a></span></li></ul></li><li><span><a href=\"#Export-clean-dataset\" data-toc-modified-id=\"Export-clean-dataset-10\"><span class=\"toc-item-num\">10&nbsp;&nbsp;</span>Export clean dataset</a></span></li></ul></div>"
   ]
  },
  {
   "cell_type": "markdown",
   "metadata": {},
   "source": [
    "# Data Cleaning\n",
    "\n",
    "\n",
    "Lab Goals\n",
    "\n",
    "+ Examine data for potential issues.\n",
    "+ Identify and fill in missing values.\n",
    "+ Identify and correct incorrect values.\n",
    "+ Remove low variance columns.\n",
    "+ Identify potential outliers.\n",
    "+ Correct incorrect data types.\n",
    "+ Remove special characters and clean categorical variables.\n",
    "+ Identify and remove duplicate records.\n",
    "\n",
    "Introduction\n",
    "\n",
    "When working with data sets, you will find that they often require a bit of cleaning. Whether Pandas originally read the data types incorrectly, records are duplicated, the data contains special characters or missing value, or there are slightly different references to the same entity, every data analyst must know how to clean the data they are working with before analyzing it. In this lesson, you will learn about some of the most common problems that make data messy and methods for correcting those problems and cleaning your data.\n",
    "\n",
    "The data set we are going to be using for this lesson is a messy version of the vehicles data set we worked with in the previous lesson. Let's import this version of our data set so that we can then practice cleaning it up."
   ]
  },
  {
   "cell_type": "code",
   "execution_count": 1,
   "metadata": {},
   "outputs": [],
   "source": [
    "import pandas as pd\n",
    "import numpy as np\n",
    "import warnings\n",
    "warnings.simplefilter('ignore')"
   ]
  },
  {
   "cell_type": "code",
   "execution_count": 2,
   "metadata": {},
   "outputs": [
    {
     "data": {
      "text/plain": "       barrels08  barrelsA08  charge120  charge240  city08  city08U  cityA08  \\\n0      15.695714         0.0        0.0        0.0      19      0.0        0   \n1      29.964545         0.0        0.0        0.0       9      0.0        0   \n2      12.207778         0.0        0.0        0.0      23      0.0        0   \n3      29.964545         0.0        0.0        0.0      10      0.0        0   \n4      17.347895         0.0        0.0        0.0      17      0.0        0   \n...          ...         ...        ...        ...     ...      ...      ...   \n37838  14.982273         0.0        0.0        0.0      19      0.0        0   \n37839  14.330870         0.0        0.0        0.0      20      0.0        0   \n37840  15.695714         0.0        0.0        0.0      18      0.0        0   \n37841  15.695714         0.0        0.0        0.0      18      0.0        0   \n37842  18.311667         0.0        0.0        0.0      16      0.0        0   \n\n       cityA08U  cityCD  cityE  ...  mfrCode  c240Dscr  charge240b  c240bDscr  \\\n0           0.0     0.0    0.0  ...      NaN       NaN         0.0        NaN   \n1           0.0     0.0    0.0  ...      NaN       NaN         0.0        NaN   \n2           0.0     0.0    0.0  ...      NaN       NaN         0.0        NaN   \n3           0.0     0.0    0.0  ...      NaN       NaN         0.0        NaN   \n4           0.0     0.0    0.0  ...      NaN       NaN         0.0        NaN   \n...         ...     ...    ...  ...      ...       ...         ...        ...   \n37838       0.0     0.0    0.0  ...      NaN       NaN         0.0        NaN   \n37839       0.0     0.0    0.0  ...      NaN       NaN         0.0        NaN   \n37840       0.0     0.0    0.0  ...      NaN       NaN         0.0        NaN   \n37841       0.0     0.0    0.0  ...      NaN       NaN         0.0        NaN   \n37842       0.0     0.0    0.0  ...      NaN       NaN         0.0        NaN   \n\n                          createdOn                    modifiedOn  startStop  \\\n0      Tue Jan 01 00:00:00 EST 2013  Tue Jan 01 00:00:00 EST 2013        NaN   \n1      Tue Jan 01 00:00:00 EST 2013  Tue Jan 01 00:00:00 EST 2013        NaN   \n2      Tue Jan 01 00:00:00 EST 2013  Tue Jan 01 00:00:00 EST 2013        NaN   \n3      Tue Jan 01 00:00:00 EST 2013  Tue Jan 01 00:00:00 EST 2013        NaN   \n4      Tue Jan 01 00:00:00 EST 2013  Tue Jan 01 00:00:00 EST 2013        NaN   \n...                             ...                           ...        ...   \n37838  Tue Jan 01 00:00:00 EST 2013  Tue Jan 01 00:00:00 EST 2013        NaN   \n37839  Tue Jan 01 00:00:00 EST 2013  Tue Jan 01 00:00:00 EST 2013        NaN   \n37840  Tue Jan 01 00:00:00 EST 2013  Tue Jan 01 00:00:00 EST 2013        NaN   \n37841  Tue Jan 01 00:00:00 EST 2013  Tue Jan 01 00:00:00 EST 2013        NaN   \n37842  Tue Jan 01 00:00:00 EST 2013  Tue Jan 01 00:00:00 EST 2013        NaN   \n\n       phevCity  phevHwy  phevComb  \n0             0        0         0  \n1             0        0         0  \n2             0        0         0  \n3             0        0         0  \n4             0        0         0  \n...         ...      ...       ...  \n37838         0        0         0  \n37839         0        0         0  \n37840         0        0         0  \n37841         0        0         0  \n37842         0        0         0  \n\n[37843 rows x 83 columns]",
      "text/html": "<div>\n<style scoped>\n    .dataframe tbody tr th:only-of-type {\n        vertical-align: middle;\n    }\n\n    .dataframe tbody tr th {\n        vertical-align: top;\n    }\n\n    .dataframe thead th {\n        text-align: right;\n    }\n</style>\n<table border=\"1\" class=\"dataframe\">\n  <thead>\n    <tr style=\"text-align: right;\">\n      <th></th>\n      <th>barrels08</th>\n      <th>barrelsA08</th>\n      <th>charge120</th>\n      <th>charge240</th>\n      <th>city08</th>\n      <th>city08U</th>\n      <th>cityA08</th>\n      <th>cityA08U</th>\n      <th>cityCD</th>\n      <th>cityE</th>\n      <th>...</th>\n      <th>mfrCode</th>\n      <th>c240Dscr</th>\n      <th>charge240b</th>\n      <th>c240bDscr</th>\n      <th>createdOn</th>\n      <th>modifiedOn</th>\n      <th>startStop</th>\n      <th>phevCity</th>\n      <th>phevHwy</th>\n      <th>phevComb</th>\n    </tr>\n  </thead>\n  <tbody>\n    <tr>\n      <th>0</th>\n      <td>15.695714</td>\n      <td>0.0</td>\n      <td>0.0</td>\n      <td>0.0</td>\n      <td>19</td>\n      <td>0.0</td>\n      <td>0</td>\n      <td>0.0</td>\n      <td>0.0</td>\n      <td>0.0</td>\n      <td>...</td>\n      <td>NaN</td>\n      <td>NaN</td>\n      <td>0.0</td>\n      <td>NaN</td>\n      <td>Tue Jan 01 00:00:00 EST 2013</td>\n      <td>Tue Jan 01 00:00:00 EST 2013</td>\n      <td>NaN</td>\n      <td>0</td>\n      <td>0</td>\n      <td>0</td>\n    </tr>\n    <tr>\n      <th>1</th>\n      <td>29.964545</td>\n      <td>0.0</td>\n      <td>0.0</td>\n      <td>0.0</td>\n      <td>9</td>\n      <td>0.0</td>\n      <td>0</td>\n      <td>0.0</td>\n      <td>0.0</td>\n      <td>0.0</td>\n      <td>...</td>\n      <td>NaN</td>\n      <td>NaN</td>\n      <td>0.0</td>\n      <td>NaN</td>\n      <td>Tue Jan 01 00:00:00 EST 2013</td>\n      <td>Tue Jan 01 00:00:00 EST 2013</td>\n      <td>NaN</td>\n      <td>0</td>\n      <td>0</td>\n      <td>0</td>\n    </tr>\n    <tr>\n      <th>2</th>\n      <td>12.207778</td>\n      <td>0.0</td>\n      <td>0.0</td>\n      <td>0.0</td>\n      <td>23</td>\n      <td>0.0</td>\n      <td>0</td>\n      <td>0.0</td>\n      <td>0.0</td>\n      <td>0.0</td>\n      <td>...</td>\n      <td>NaN</td>\n      <td>NaN</td>\n      <td>0.0</td>\n      <td>NaN</td>\n      <td>Tue Jan 01 00:00:00 EST 2013</td>\n      <td>Tue Jan 01 00:00:00 EST 2013</td>\n      <td>NaN</td>\n      <td>0</td>\n      <td>0</td>\n      <td>0</td>\n    </tr>\n    <tr>\n      <th>3</th>\n      <td>29.964545</td>\n      <td>0.0</td>\n      <td>0.0</td>\n      <td>0.0</td>\n      <td>10</td>\n      <td>0.0</td>\n      <td>0</td>\n      <td>0.0</td>\n      <td>0.0</td>\n      <td>0.0</td>\n      <td>...</td>\n      <td>NaN</td>\n      <td>NaN</td>\n      <td>0.0</td>\n      <td>NaN</td>\n      <td>Tue Jan 01 00:00:00 EST 2013</td>\n      <td>Tue Jan 01 00:00:00 EST 2013</td>\n      <td>NaN</td>\n      <td>0</td>\n      <td>0</td>\n      <td>0</td>\n    </tr>\n    <tr>\n      <th>4</th>\n      <td>17.347895</td>\n      <td>0.0</td>\n      <td>0.0</td>\n      <td>0.0</td>\n      <td>17</td>\n      <td>0.0</td>\n      <td>0</td>\n      <td>0.0</td>\n      <td>0.0</td>\n      <td>0.0</td>\n      <td>...</td>\n      <td>NaN</td>\n      <td>NaN</td>\n      <td>0.0</td>\n      <td>NaN</td>\n      <td>Tue Jan 01 00:00:00 EST 2013</td>\n      <td>Tue Jan 01 00:00:00 EST 2013</td>\n      <td>NaN</td>\n      <td>0</td>\n      <td>0</td>\n      <td>0</td>\n    </tr>\n    <tr>\n      <th>...</th>\n      <td>...</td>\n      <td>...</td>\n      <td>...</td>\n      <td>...</td>\n      <td>...</td>\n      <td>...</td>\n      <td>...</td>\n      <td>...</td>\n      <td>...</td>\n      <td>...</td>\n      <td>...</td>\n      <td>...</td>\n      <td>...</td>\n      <td>...</td>\n      <td>...</td>\n      <td>...</td>\n      <td>...</td>\n      <td>...</td>\n      <td>...</td>\n      <td>...</td>\n      <td>...</td>\n    </tr>\n    <tr>\n      <th>37838</th>\n      <td>14.982273</td>\n      <td>0.0</td>\n      <td>0.0</td>\n      <td>0.0</td>\n      <td>19</td>\n      <td>0.0</td>\n      <td>0</td>\n      <td>0.0</td>\n      <td>0.0</td>\n      <td>0.0</td>\n      <td>...</td>\n      <td>NaN</td>\n      <td>NaN</td>\n      <td>0.0</td>\n      <td>NaN</td>\n      <td>Tue Jan 01 00:00:00 EST 2013</td>\n      <td>Tue Jan 01 00:00:00 EST 2013</td>\n      <td>NaN</td>\n      <td>0</td>\n      <td>0</td>\n      <td>0</td>\n    </tr>\n    <tr>\n      <th>37839</th>\n      <td>14.330870</td>\n      <td>0.0</td>\n      <td>0.0</td>\n      <td>0.0</td>\n      <td>20</td>\n      <td>0.0</td>\n      <td>0</td>\n      <td>0.0</td>\n      <td>0.0</td>\n      <td>0.0</td>\n      <td>...</td>\n      <td>NaN</td>\n      <td>NaN</td>\n      <td>0.0</td>\n      <td>NaN</td>\n      <td>Tue Jan 01 00:00:00 EST 2013</td>\n      <td>Tue Jan 01 00:00:00 EST 2013</td>\n      <td>NaN</td>\n      <td>0</td>\n      <td>0</td>\n      <td>0</td>\n    </tr>\n    <tr>\n      <th>37840</th>\n      <td>15.695714</td>\n      <td>0.0</td>\n      <td>0.0</td>\n      <td>0.0</td>\n      <td>18</td>\n      <td>0.0</td>\n      <td>0</td>\n      <td>0.0</td>\n      <td>0.0</td>\n      <td>0.0</td>\n      <td>...</td>\n      <td>NaN</td>\n      <td>NaN</td>\n      <td>0.0</td>\n      <td>NaN</td>\n      <td>Tue Jan 01 00:00:00 EST 2013</td>\n      <td>Tue Jan 01 00:00:00 EST 2013</td>\n      <td>NaN</td>\n      <td>0</td>\n      <td>0</td>\n      <td>0</td>\n    </tr>\n    <tr>\n      <th>37841</th>\n      <td>15.695714</td>\n      <td>0.0</td>\n      <td>0.0</td>\n      <td>0.0</td>\n      <td>18</td>\n      <td>0.0</td>\n      <td>0</td>\n      <td>0.0</td>\n      <td>0.0</td>\n      <td>0.0</td>\n      <td>...</td>\n      <td>NaN</td>\n      <td>NaN</td>\n      <td>0.0</td>\n      <td>NaN</td>\n      <td>Tue Jan 01 00:00:00 EST 2013</td>\n      <td>Tue Jan 01 00:00:00 EST 2013</td>\n      <td>NaN</td>\n      <td>0</td>\n      <td>0</td>\n      <td>0</td>\n    </tr>\n    <tr>\n      <th>37842</th>\n      <td>18.311667</td>\n      <td>0.0</td>\n      <td>0.0</td>\n      <td>0.0</td>\n      <td>16</td>\n      <td>0.0</td>\n      <td>0</td>\n      <td>0.0</td>\n      <td>0.0</td>\n      <td>0.0</td>\n      <td>...</td>\n      <td>NaN</td>\n      <td>NaN</td>\n      <td>0.0</td>\n      <td>NaN</td>\n      <td>Tue Jan 01 00:00:00 EST 2013</td>\n      <td>Tue Jan 01 00:00:00 EST 2013</td>\n      <td>NaN</td>\n      <td>0</td>\n      <td>0</td>\n      <td>0</td>\n    </tr>\n  </tbody>\n</table>\n<p>37843 rows × 83 columns</p>\n</div>"
     },
     "execution_count": 2,
     "metadata": {},
     "output_type": "execute_result"
    }
   ],
   "source": [
    "#Load data from vehicles_messy.csv\n",
    "data = pd.read_csv('../data/vehicles_messy.csv')\n",
    "data"
   ]
  },
  {
   "cell_type": "markdown",
   "metadata": {},
   "source": [
    "# Examining Data for Potential Issues\n",
    "\n",
    "One of the first things we want to do is examine the data and look for any **potential issues**. Some of the things we are interested in identifying in the data at this stage include:\n",
    "\n",
    "- Missing values\n",
    "- Special characters\n",
    "- Incorrect values\n",
    "- Extreme values or outliers\n",
    "- Duplicate records\n",
    "- Incorrect data types\n",
    "\n",
    "The presence of these may cause problems when it's time to analyze the data, so we want to make sure we address them beforehand. We can start by visually inspecting the data using the `.head` method, which will show us the first 5 rows of data. "
   ]
  },
  {
   "cell_type": "code",
   "execution_count": 3,
   "metadata": {},
   "outputs": [
    {
     "data": {
      "text/plain": "       barrels08  barrelsA08  charge120  charge240  city08  city08U  cityA08  \\\n0      15.695714         0.0        0.0        0.0      19      0.0        0   \n1      29.964545         0.0        0.0        0.0       9      0.0        0   \n2      12.207778         0.0        0.0        0.0      23      0.0        0   \n3      29.964545         0.0        0.0        0.0      10      0.0        0   \n4      17.347895         0.0        0.0        0.0      17      0.0        0   \n...          ...         ...        ...        ...     ...      ...      ...   \n37838  14.982273         0.0        0.0        0.0      19      0.0        0   \n37839  14.330870         0.0        0.0        0.0      20      0.0        0   \n37840  15.695714         0.0        0.0        0.0      18      0.0        0   \n37841  15.695714         0.0        0.0        0.0      18      0.0        0   \n37842  18.311667         0.0        0.0        0.0      16      0.0        0   \n\n       cityA08U  cityCD  cityE  ...  mfrCode  c240Dscr  charge240b  c240bDscr  \\\n0           0.0     0.0    0.0  ...      NaN       NaN         0.0        NaN   \n1           0.0     0.0    0.0  ...      NaN       NaN         0.0        NaN   \n2           0.0     0.0    0.0  ...      NaN       NaN         0.0        NaN   \n3           0.0     0.0    0.0  ...      NaN       NaN         0.0        NaN   \n4           0.0     0.0    0.0  ...      NaN       NaN         0.0        NaN   \n...         ...     ...    ...  ...      ...       ...         ...        ...   \n37838       0.0     0.0    0.0  ...      NaN       NaN         0.0        NaN   \n37839       0.0     0.0    0.0  ...      NaN       NaN         0.0        NaN   \n37840       0.0     0.0    0.0  ...      NaN       NaN         0.0        NaN   \n37841       0.0     0.0    0.0  ...      NaN       NaN         0.0        NaN   \n37842       0.0     0.0    0.0  ...      NaN       NaN         0.0        NaN   \n\n                          createdOn                    modifiedOn  startStop  \\\n0      Tue Jan 01 00:00:00 EST 2013  Tue Jan 01 00:00:00 EST 2013        NaN   \n1      Tue Jan 01 00:00:00 EST 2013  Tue Jan 01 00:00:00 EST 2013        NaN   \n2      Tue Jan 01 00:00:00 EST 2013  Tue Jan 01 00:00:00 EST 2013        NaN   \n3      Tue Jan 01 00:00:00 EST 2013  Tue Jan 01 00:00:00 EST 2013        NaN   \n4      Tue Jan 01 00:00:00 EST 2013  Tue Jan 01 00:00:00 EST 2013        NaN   \n...                             ...                           ...        ...   \n37838  Tue Jan 01 00:00:00 EST 2013  Tue Jan 01 00:00:00 EST 2013        NaN   \n37839  Tue Jan 01 00:00:00 EST 2013  Tue Jan 01 00:00:00 EST 2013        NaN   \n37840  Tue Jan 01 00:00:00 EST 2013  Tue Jan 01 00:00:00 EST 2013        NaN   \n37841  Tue Jan 01 00:00:00 EST 2013  Tue Jan 01 00:00:00 EST 2013        NaN   \n37842  Tue Jan 01 00:00:00 EST 2013  Tue Jan 01 00:00:00 EST 2013        NaN   \n\n       phevCity  phevHwy  phevComb  \n0             0        0         0  \n1             0        0         0  \n2             0        0         0  \n3             0        0         0  \n4             0        0         0  \n...         ...      ...       ...  \n37838         0        0         0  \n37839         0        0         0  \n37840         0        0         0  \n37841         0        0         0  \n37842         0        0         0  \n\n[37843 rows x 83 columns]",
      "text/html": "<div>\n<style scoped>\n    .dataframe tbody tr th:only-of-type {\n        vertical-align: middle;\n    }\n\n    .dataframe tbody tr th {\n        vertical-align: top;\n    }\n\n    .dataframe thead th {\n        text-align: right;\n    }\n</style>\n<table border=\"1\" class=\"dataframe\">\n  <thead>\n    <tr style=\"text-align: right;\">\n      <th></th>\n      <th>barrels08</th>\n      <th>barrelsA08</th>\n      <th>charge120</th>\n      <th>charge240</th>\n      <th>city08</th>\n      <th>city08U</th>\n      <th>cityA08</th>\n      <th>cityA08U</th>\n      <th>cityCD</th>\n      <th>cityE</th>\n      <th>...</th>\n      <th>mfrCode</th>\n      <th>c240Dscr</th>\n      <th>charge240b</th>\n      <th>c240bDscr</th>\n      <th>createdOn</th>\n      <th>modifiedOn</th>\n      <th>startStop</th>\n      <th>phevCity</th>\n      <th>phevHwy</th>\n      <th>phevComb</th>\n    </tr>\n  </thead>\n  <tbody>\n    <tr>\n      <th>0</th>\n      <td>15.695714</td>\n      <td>0.0</td>\n      <td>0.0</td>\n      <td>0.0</td>\n      <td>19</td>\n      <td>0.0</td>\n      <td>0</td>\n      <td>0.0</td>\n      <td>0.0</td>\n      <td>0.0</td>\n      <td>...</td>\n      <td>NaN</td>\n      <td>NaN</td>\n      <td>0.0</td>\n      <td>NaN</td>\n      <td>Tue Jan 01 00:00:00 EST 2013</td>\n      <td>Tue Jan 01 00:00:00 EST 2013</td>\n      <td>NaN</td>\n      <td>0</td>\n      <td>0</td>\n      <td>0</td>\n    </tr>\n    <tr>\n      <th>1</th>\n      <td>29.964545</td>\n      <td>0.0</td>\n      <td>0.0</td>\n      <td>0.0</td>\n      <td>9</td>\n      <td>0.0</td>\n      <td>0</td>\n      <td>0.0</td>\n      <td>0.0</td>\n      <td>0.0</td>\n      <td>...</td>\n      <td>NaN</td>\n      <td>NaN</td>\n      <td>0.0</td>\n      <td>NaN</td>\n      <td>Tue Jan 01 00:00:00 EST 2013</td>\n      <td>Tue Jan 01 00:00:00 EST 2013</td>\n      <td>NaN</td>\n      <td>0</td>\n      <td>0</td>\n      <td>0</td>\n    </tr>\n    <tr>\n      <th>2</th>\n      <td>12.207778</td>\n      <td>0.0</td>\n      <td>0.0</td>\n      <td>0.0</td>\n      <td>23</td>\n      <td>0.0</td>\n      <td>0</td>\n      <td>0.0</td>\n      <td>0.0</td>\n      <td>0.0</td>\n      <td>...</td>\n      <td>NaN</td>\n      <td>NaN</td>\n      <td>0.0</td>\n      <td>NaN</td>\n      <td>Tue Jan 01 00:00:00 EST 2013</td>\n      <td>Tue Jan 01 00:00:00 EST 2013</td>\n      <td>NaN</td>\n      <td>0</td>\n      <td>0</td>\n      <td>0</td>\n    </tr>\n    <tr>\n      <th>3</th>\n      <td>29.964545</td>\n      <td>0.0</td>\n      <td>0.0</td>\n      <td>0.0</td>\n      <td>10</td>\n      <td>0.0</td>\n      <td>0</td>\n      <td>0.0</td>\n      <td>0.0</td>\n      <td>0.0</td>\n      <td>...</td>\n      <td>NaN</td>\n      <td>NaN</td>\n      <td>0.0</td>\n      <td>NaN</td>\n      <td>Tue Jan 01 00:00:00 EST 2013</td>\n      <td>Tue Jan 01 00:00:00 EST 2013</td>\n      <td>NaN</td>\n      <td>0</td>\n      <td>0</td>\n      <td>0</td>\n    </tr>\n    <tr>\n      <th>4</th>\n      <td>17.347895</td>\n      <td>0.0</td>\n      <td>0.0</td>\n      <td>0.0</td>\n      <td>17</td>\n      <td>0.0</td>\n      <td>0</td>\n      <td>0.0</td>\n      <td>0.0</td>\n      <td>0.0</td>\n      <td>...</td>\n      <td>NaN</td>\n      <td>NaN</td>\n      <td>0.0</td>\n      <td>NaN</td>\n      <td>Tue Jan 01 00:00:00 EST 2013</td>\n      <td>Tue Jan 01 00:00:00 EST 2013</td>\n      <td>NaN</td>\n      <td>0</td>\n      <td>0</td>\n      <td>0</td>\n    </tr>\n    <tr>\n      <th>...</th>\n      <td>...</td>\n      <td>...</td>\n      <td>...</td>\n      <td>...</td>\n      <td>...</td>\n      <td>...</td>\n      <td>...</td>\n      <td>...</td>\n      <td>...</td>\n      <td>...</td>\n      <td>...</td>\n      <td>...</td>\n      <td>...</td>\n      <td>...</td>\n      <td>...</td>\n      <td>...</td>\n      <td>...</td>\n      <td>...</td>\n      <td>...</td>\n      <td>...</td>\n      <td>...</td>\n    </tr>\n    <tr>\n      <th>37838</th>\n      <td>14.982273</td>\n      <td>0.0</td>\n      <td>0.0</td>\n      <td>0.0</td>\n      <td>19</td>\n      <td>0.0</td>\n      <td>0</td>\n      <td>0.0</td>\n      <td>0.0</td>\n      <td>0.0</td>\n      <td>...</td>\n      <td>NaN</td>\n      <td>NaN</td>\n      <td>0.0</td>\n      <td>NaN</td>\n      <td>Tue Jan 01 00:00:00 EST 2013</td>\n      <td>Tue Jan 01 00:00:00 EST 2013</td>\n      <td>NaN</td>\n      <td>0</td>\n      <td>0</td>\n      <td>0</td>\n    </tr>\n    <tr>\n      <th>37839</th>\n      <td>14.330870</td>\n      <td>0.0</td>\n      <td>0.0</td>\n      <td>0.0</td>\n      <td>20</td>\n      <td>0.0</td>\n      <td>0</td>\n      <td>0.0</td>\n      <td>0.0</td>\n      <td>0.0</td>\n      <td>...</td>\n      <td>NaN</td>\n      <td>NaN</td>\n      <td>0.0</td>\n      <td>NaN</td>\n      <td>Tue Jan 01 00:00:00 EST 2013</td>\n      <td>Tue Jan 01 00:00:00 EST 2013</td>\n      <td>NaN</td>\n      <td>0</td>\n      <td>0</td>\n      <td>0</td>\n    </tr>\n    <tr>\n      <th>37840</th>\n      <td>15.695714</td>\n      <td>0.0</td>\n      <td>0.0</td>\n      <td>0.0</td>\n      <td>18</td>\n      <td>0.0</td>\n      <td>0</td>\n      <td>0.0</td>\n      <td>0.0</td>\n      <td>0.0</td>\n      <td>...</td>\n      <td>NaN</td>\n      <td>NaN</td>\n      <td>0.0</td>\n      <td>NaN</td>\n      <td>Tue Jan 01 00:00:00 EST 2013</td>\n      <td>Tue Jan 01 00:00:00 EST 2013</td>\n      <td>NaN</td>\n      <td>0</td>\n      <td>0</td>\n      <td>0</td>\n    </tr>\n    <tr>\n      <th>37841</th>\n      <td>15.695714</td>\n      <td>0.0</td>\n      <td>0.0</td>\n      <td>0.0</td>\n      <td>18</td>\n      <td>0.0</td>\n      <td>0</td>\n      <td>0.0</td>\n      <td>0.0</td>\n      <td>0.0</td>\n      <td>...</td>\n      <td>NaN</td>\n      <td>NaN</td>\n      <td>0.0</td>\n      <td>NaN</td>\n      <td>Tue Jan 01 00:00:00 EST 2013</td>\n      <td>Tue Jan 01 00:00:00 EST 2013</td>\n      <td>NaN</td>\n      <td>0</td>\n      <td>0</td>\n      <td>0</td>\n    </tr>\n    <tr>\n      <th>37842</th>\n      <td>18.311667</td>\n      <td>0.0</td>\n      <td>0.0</td>\n      <td>0.0</td>\n      <td>16</td>\n      <td>0.0</td>\n      <td>0</td>\n      <td>0.0</td>\n      <td>0.0</td>\n      <td>0.0</td>\n      <td>...</td>\n      <td>NaN</td>\n      <td>NaN</td>\n      <td>0.0</td>\n      <td>NaN</td>\n      <td>Tue Jan 01 00:00:00 EST 2013</td>\n      <td>Tue Jan 01 00:00:00 EST 2013</td>\n      <td>NaN</td>\n      <td>0</td>\n      <td>0</td>\n      <td>0</td>\n    </tr>\n  </tbody>\n</table>\n<p>37843 rows × 83 columns</p>\n</div>"
     },
     "execution_count": 3,
     "metadata": {},
     "output_type": "execute_result"
    }
   ],
   "source": [
    "#your code\n",
    "data"
   ]
  },
  {
   "cell_type": "markdown",
   "metadata": {},
   "source": [
    "But how big actually is our dataframe??? Check it with `.shape` method"
   ]
  },
  {
   "cell_type": "code",
   "execution_count": 4,
   "metadata": {},
   "outputs": [
    {
     "data": {
      "text/plain": "(37843, 83)"
     },
     "execution_count": 4,
     "metadata": {},
     "output_type": "execute_result"
    }
   ],
   "source": [
    "#your code\n",
    "data.shape"
   ]
  },
  {
   "cell_type": "markdown",
   "metadata": {},
   "source": [
    "Let's dive a little more in the content of our data set. Is there any method that shows us the **column names**, its **data types** and number of **non-null values**?"
   ]
  },
  {
   "cell_type": "code",
   "execution_count": 5,
   "metadata": {},
   "outputs": [
    {
     "name": "stdout",
     "output_type": "stream",
     "text": [
      "<class 'pandas.core.frame.DataFrame'>\n",
      "RangeIndex: 37843 entries, 0 to 37842\n",
      "Data columns (total 83 columns):\n",
      " #   Column           Non-Null Count  Dtype  \n",
      "---  ------           --------------  -----  \n",
      " 0   barrels08        37843 non-null  float64\n",
      " 1   barrelsA08       37843 non-null  float64\n",
      " 2   charge120        37843 non-null  float64\n",
      " 3   charge240        37843 non-null  float64\n",
      " 4   city08           37843 non-null  int64  \n",
      " 5   city08U          37843 non-null  float64\n",
      " 6   cityA08          37843 non-null  int64  \n",
      " 7   cityA08U         37843 non-null  float64\n",
      " 8   cityCD           37843 non-null  float64\n",
      " 9   cityE            37843 non-null  float64\n",
      " 10  cityUF           37843 non-null  float64\n",
      " 11  co2              37843 non-null  int64  \n",
      " 12  co2A             37843 non-null  int64  \n",
      " 13  co2TailpipeAGpm  37843 non-null  float64\n",
      " 14  co2TailpipeGpm   37843 non-null  float64\n",
      " 15  comb08           37843 non-null  int64  \n",
      " 16  comb08U          37843 non-null  float64\n",
      " 17  combA08          37843 non-null  int64  \n",
      " 18  combA08U         37843 non-null  float64\n",
      " 19  combE            37843 non-null  float64\n",
      " 20  combinedCD       37843 non-null  float64\n",
      " 21  combinedUF       37843 non-null  float64\n",
      " 22  cylinders        37720 non-null  float64\n",
      " 23  displ            37723 non-null  float64\n",
      " 24  drive            36654 non-null  object \n",
      " 25  engId            37843 non-null  int64  \n",
      " 26  eng_dscr         22440 non-null  object \n",
      " 27  feScore          37843 non-null  int64  \n",
      " 28  fuelCost08       37843 non-null  int64  \n",
      " 29  fuelCostA08      37843 non-null  int64  \n",
      " 30  fuelType         37843 non-null  object \n",
      " 31  fuelType1        37843 non-null  object \n",
      " 32  ghgScore         37843 non-null  int64  \n",
      " 33  ghgScoreA        37843 non-null  int64  \n",
      " 34  highway08        37843 non-null  int64  \n",
      " 35  highway08U       37843 non-null  float64\n",
      " 36  highwayA08       37843 non-null  int64  \n",
      " 37  highwayA08U      37843 non-null  float64\n",
      " 38  highwayCD        37843 non-null  float64\n",
      " 39  highwayE         37843 non-null  float64\n",
      " 40  highwayUF        37843 non-null  float64\n",
      " 41  hlv              37843 non-null  int64  \n",
      " 42  hpv              37843 non-null  int64  \n",
      " 43  id               37843 non-null  int64  \n",
      " 44  lv2              37843 non-null  int64  \n",
      " 45  lv4              37843 non-null  int64  \n",
      " 46  make             37843 non-null  object \n",
      " 47  model            37843 non-null  object \n",
      " 48  mpgData          37843 non-null  object \n",
      " 49  phevBlended      37843 non-null  bool   \n",
      " 50  pv2              37843 non-null  int64  \n",
      " 51  pv4              37843 non-null  int64  \n",
      " 52  range            37843 non-null  int64  \n",
      " 53  rangeCity        37843 non-null  float64\n",
      " 54  rangeCityA       37843 non-null  float64\n",
      " 55  rangeHwy         37843 non-null  float64\n",
      " 56  rangeHwyA        37843 non-null  float64\n",
      " 57  trany            37832 non-null  object \n",
      " 58  UCity            37843 non-null  float64\n",
      " 59  UCityA           37843 non-null  float64\n",
      " 60  UHighway         37843 non-null  float64\n",
      " 61  UHighwayA        37843 non-null  float64\n",
      " 62  VClass           37843 non-null  object \n",
      " 63  year             37843 non-null  int64  \n",
      " 64  youSaveSpend     37843 non-null  int64  \n",
      " 65  guzzler          2281 non-null   object \n",
      " 66  trans_dscr       15047 non-null  object \n",
      " 67  tCharger         5186 non-null   object \n",
      " 68  sCharger         666 non-null    object \n",
      " 69  atvType          3072 non-null   object \n",
      " 70  fuelType2        1408 non-null   object \n",
      " 71  rangeA           1403 non-null   object \n",
      " 72  evMotor          562 non-null    object \n",
      " 73  mfrCode          7025 non-null   object \n",
      " 74  c240Dscr         37 non-null     object \n",
      " 75  charge240b       37843 non-null  float64\n",
      " 76  c240bDscr        36 non-null     object \n",
      " 77  createdOn        37843 non-null  object \n",
      " 78  modifiedOn       37843 non-null  object \n",
      " 79  startStop        6138 non-null   object \n",
      " 80  phevCity         37843 non-null  int64  \n",
      " 81  phevHwy          37843 non-null  int64  \n",
      " 82  phevComb         37843 non-null  int64  \n",
      "dtypes: bool(1), float64(32), int64(27), object(23)\n",
      "memory usage: 23.7+ MB\n"
     ]
    }
   ],
   "source": [
    "#your code\n",
    "data.info()"
   ]
  },
  {
   "cell_type": "markdown",
   "metadata": {},
   "source": [
    "# Missing Values\n",
    "\n",
    "From this initial view, we can see that our data set contains some columns that have missing values in them and others that seem to have a lot of zero values. \n",
    "\n",
    "Let's see how prevalent missing values are in our data. We can use the Pandas `.isnull()` method to check whether the value in each field is missing (*null*) and return either True or False for each field. \n",
    "\n",
    "We can use the `.sum()` method to total up the number of True values by column, and then we can add a condition using square brackets that will filter the data and show us only columns where the number of null values were greater than zero. "
   ]
  },
  {
   "cell_type": "markdown",
   "metadata": {},
   "source": [
    "## Show the number of null values only of the columns that actually have null values"
   ]
  },
  {
   "cell_type": "code",
   "execution_count": 6,
   "metadata": {},
   "outputs": [
    {
     "data": {
      "text/plain": "Index(['cylinders', 'displ', 'drive', 'eng_dscr', 'trany', 'guzzler',\n       'trans_dscr', 'tCharger', 'sCharger', 'atvType', 'fuelType2', 'rangeA',\n       'evMotor', 'mfrCode', 'c240Dscr', 'c240bDscr', 'startStop'],\n      dtype='object')"
     },
     "execution_count": 6,
     "metadata": {},
     "output_type": "execute_result"
    }
   ],
   "source": [
    "#your code\n",
    "nan_cols = data.isnull().sum()\n",
    "nan_cols = nan_cols[nan_cols>0]\n",
    "nan_cols.index"
   ]
  },
  {
   "cell_type": "markdown",
   "metadata": {},
   "source": [
    "We can see that some columns have relatively few null values while others have tens of thousands of nulls. For fields that have a lot of null values, you will often have to make a judgement call. If you don't think the information is going to be very useful to your analysis, then you would remove those columns from your data frame. "
   ]
  },
  {
   "cell_type": "markdown",
   "metadata": {},
   "source": [
    "## Remove the columns that have more than 10,000 null values in them"
   ]
  },
  {
   "cell_type": "markdown",
   "metadata": {},
   "source": [
    "In Pandas, we can do that using the drop method. For our purposes, let's remove the columns that have more than 10,000 null values in them. We will add these column names to a list, and then we will pass those columns to the drop method and indicate that we want columns (not rows) dropped by setting the axis parameter to 1. "
   ]
  },
  {
   "cell_type": "code",
   "execution_count": 7,
   "metadata": {},
   "outputs": [],
   "source": [
    "#your code\n",
    "nan_cols_10e4 = data.isnull().sum()\n",
    "nan_cols_10e4 = nan_cols[nan_cols>10000]\n",
    "data.drop(nan_cols_10e4.index, axis=1, inplace=True)"
   ]
  },
  {
   "cell_type": "markdown",
   "metadata": {},
   "source": [
    "This leaves us with just a handful of remaining columns that have null values. Of the columns that remain, it looks like the cylinders column and the displ column have a similar number of nulls. Perhaps they are missing for similar reasons. We can investigate this by subsetting the data set and looking at just the records where displ is null and just the columns we think will be informative in allowing us to determine a reason. "
   ]
  },
  {
   "cell_type": "markdown",
   "metadata": {},
   "source": [
    "## Create a new dataframe that shows only the row where `displ` is null. \n",
    "Keep only the columns you think are useful"
   ]
  },
  {
   "cell_type": "code",
   "execution_count": 8,
   "metadata": {},
   "outputs": [
    {
     "data": {
      "text/plain": "       displ  cylinders     fuelType\n7138     NaN        NaN  Electricity\n7139     NaN        NaN  Electricity\n8143     NaN        NaN  Electricity\n8144     NaN        NaN  Electricity\n8146     NaN        NaN  Electricity\n...      ...        ...          ...\n30969    NaN        NaN  Electricity\n30972    NaN        NaN  Electricity\n30973    NaN        NaN  Electricity\n30974    NaN        NaN  Electricity\n30975    NaN        NaN  Electricity\n\n[120 rows x 3 columns]",
      "text/html": "<div>\n<style scoped>\n    .dataframe tbody tr th:only-of-type {\n        vertical-align: middle;\n    }\n\n    .dataframe tbody tr th {\n        vertical-align: top;\n    }\n\n    .dataframe thead th {\n        text-align: right;\n    }\n</style>\n<table border=\"1\" class=\"dataframe\">\n  <thead>\n    <tr style=\"text-align: right;\">\n      <th></th>\n      <th>displ</th>\n      <th>cylinders</th>\n      <th>fuelType</th>\n    </tr>\n  </thead>\n  <tbody>\n    <tr>\n      <th>7138</th>\n      <td>NaN</td>\n      <td>NaN</td>\n      <td>Electricity</td>\n    </tr>\n    <tr>\n      <th>7139</th>\n      <td>NaN</td>\n      <td>NaN</td>\n      <td>Electricity</td>\n    </tr>\n    <tr>\n      <th>8143</th>\n      <td>NaN</td>\n      <td>NaN</td>\n      <td>Electricity</td>\n    </tr>\n    <tr>\n      <th>8144</th>\n      <td>NaN</td>\n      <td>NaN</td>\n      <td>Electricity</td>\n    </tr>\n    <tr>\n      <th>8146</th>\n      <td>NaN</td>\n      <td>NaN</td>\n      <td>Electricity</td>\n    </tr>\n    <tr>\n      <th>...</th>\n      <td>...</td>\n      <td>...</td>\n      <td>...</td>\n    </tr>\n    <tr>\n      <th>30969</th>\n      <td>NaN</td>\n      <td>NaN</td>\n      <td>Electricity</td>\n    </tr>\n    <tr>\n      <th>30972</th>\n      <td>NaN</td>\n      <td>NaN</td>\n      <td>Electricity</td>\n    </tr>\n    <tr>\n      <th>30973</th>\n      <td>NaN</td>\n      <td>NaN</td>\n      <td>Electricity</td>\n    </tr>\n    <tr>\n      <th>30974</th>\n      <td>NaN</td>\n      <td>NaN</td>\n      <td>Electricity</td>\n    </tr>\n    <tr>\n      <th>30975</th>\n      <td>NaN</td>\n      <td>NaN</td>\n      <td>Electricity</td>\n    </tr>\n  </tbody>\n</table>\n<p>120 rows × 3 columns</p>\n</div>"
     },
     "execution_count": 8,
     "metadata": {},
     "output_type": "execute_result"
    }
   ],
   "source": [
    "#your code\n",
    "data[['displ', 'cylinders', 'fuelType']][data.displ.isnull()]"
   ]
  },
  {
   "cell_type": "markdown",
   "metadata": {},
   "source": [
    "## Fill nan values with the most appropriate technique \n",
    "*HINT: Electric cars do not have cylinders and can therefore not have any displacement*"
   ]
  },
  {
   "cell_type": "code",
   "execution_count": 9,
   "metadata": {},
   "outputs": [],
   "source": [
    "#your code\n",
    "data[\"displ\"].fillna(value=0, inplace=True)\n",
    "data[\"cylinders\"].fillna(value=0, inplace=True)"
   ]
  },
  {
   "cell_type": "markdown",
   "metadata": {},
   "source": [
    "## Bonus: \n",
    "Now that we have filled in those null values, there are only two columns in the data set that still have null values: trany and drive. Use what you have learned in this section to investigate and potentially fill in the remaining null values."
   ]
  },
  {
   "cell_type": "code",
   "execution_count": 10,
   "metadata": {},
   "outputs": [],
   "source": [
    "#your code\n",
    "data[\"trany\"].fillna(value='Unknown', inplace=True)\n",
    "data[\"drive\"].fillna(value='Unknown', inplace=True)"
   ]
  },
  {
   "cell_type": "markdown",
   "metadata": {},
   "source": [
    "# Incorrect Values\n",
    "\n",
    "In addition to null values, we also want to try to identify any values that seem incorrect. For example, in the previous section, we learned that a vehicle without cylinders should not have displacement and vice versa. Let's check to see if there are any cases that violate these rules."
   ]
  },
  {
   "cell_type": "code",
   "execution_count": 11,
   "metadata": {},
   "outputs": [
    {
     "data": {
      "text/plain": "       cylinders  displ\n21506        0.0    1.3",
      "text/html": "<div>\n<style scoped>\n    .dataframe tbody tr th:only-of-type {\n        vertical-align: middle;\n    }\n\n    .dataframe tbody tr th {\n        vertical-align: top;\n    }\n\n    .dataframe thead th {\n        text-align: right;\n    }\n</style>\n<table border=\"1\" class=\"dataframe\">\n  <thead>\n    <tr style=\"text-align: right;\">\n      <th></th>\n      <th>cylinders</th>\n      <th>displ</th>\n    </tr>\n  </thead>\n  <tbody>\n    <tr>\n      <th>21506</th>\n      <td>0.0</td>\n      <td>1.3</td>\n    </tr>\n  </tbody>\n</table>\n</div>"
     },
     "execution_count": 11,
     "metadata": {},
     "output_type": "execute_result"
    }
   ],
   "source": [
    "#your code\n",
    "breaking_rules = data[[\"cylinders\", \"displ\"]][(data.cylinders == 0) & (data.displ != 0) | (data.cylinders != 0) & (data.displ == 0)]\n",
    "breaking_rules"
   ]
  },
  {
   "cell_type": "markdown",
   "metadata": {},
   "source": [
    "Is there any row that seems to have strange values?"
   ]
  },
  {
   "cell_type": "code",
   "execution_count": 12,
   "metadata": {},
   "outputs": [
    {
     "name": "stdout",
     "output_type": "stream",
     "text": [
      "There is one file with 0 cylinders and 1.3 displ. This violate these rules\n"
     ]
    }
   ],
   "source": [
    "#your explanation here\n",
    "print(\"There is one file with 0 cylinders and 1.3 displ. This violate these rules\")"
   ]
  },
  {
   "cell_type": "markdown",
   "metadata": {},
   "source": [
    "Here we have identified a vehicle with a regular gasoline engine that reportedly does not have any cylinders but does have a value for displacement. "
   ]
  },
  {
   "cell_type": "markdown",
   "metadata": {},
   "source": [
    "The way we would correct this would be to either perform some domain research or ask a domain expert to find out how many actual cylinders this vehicle had. Alternatively, you can also try to look at similar vehicles in the data set and determine the most likely value for this field."
   ]
  },
  {
   "cell_type": "markdown",
   "source": [
    "Suppose that using one of the aforementioned methods, we found out that this vehicle actually has a 4 cylinder engine. Update that specific value in the data frame."
   ],
   "metadata": {
    "collapsed": false,
    "pycharm": {
     "name": "#%% md\n"
    }
   }
  },
  {
   "cell_type": "code",
   "execution_count": 13,
   "outputs": [],
   "source": [
    "#your code\n",
    "data.drop(breaking_rules.index, axis=0, inplace=True)"
   ],
   "metadata": {
    "collapsed": false,
    "pycharm": {
     "name": "#%%\n"
    }
   }
  },
  {
   "cell_type": "markdown",
   "metadata": {},
   "source": [
    "## Check similar rows"
   ]
  },
  {
   "cell_type": "code",
   "execution_count": 14,
   "metadata": {},
   "outputs": [],
   "source": [
    "#your code\n",
    "cte_cols=[]\n",
    "\n",
    "for c in data.select_dtypes(include=np.number):\n",
    "    if data[c].std()==0:\n",
    "        cte_cols.append(c)\n",
    "\n",
    "data.drop(cte_cols, axis=1, inplace=True)"
   ]
  },
  {
   "cell_type": "markdown",
   "metadata": {},
   "source": []
  },
  {
   "cell_type": "markdown",
   "metadata": {},
   "source": [
    "# Low Variance Columns\n",
    "\n",
    "When analyzing data, we want the fields we are working with to be informative, and we will want to strip away any columns that don't have a lot of value to us. One easy way to do this is to identify columns that have low variance, where the majority of the values in the column are the same. Since there is not a lot of variability in these columns, they have the potential to not be as informative as columns that have a variety of different values in them.\n",
    "\n",
    "Let's try to identify columns where at least 90% of the values are the same so that we can remove them from our data set. To do this, we are going to create an empty list called low_variance that will eventually contain the names of columns that fit our criteria.\n",
    "\n",
    "We will then write a for loop that will take the minimum and the 90th percentile value for all the numeric columns in our data set (identified via the _get_numeric_data method). If the 90th percentile and the minimum are equal to each other, that means that at least 90% of the values in that column are the same and we will append that column name to our low_variance list. "
   ]
  },
  {
   "cell_type": "code",
   "execution_count": 15,
   "metadata": {},
   "outputs": [
    {
     "data": {
      "text/plain": "['barrelsA08',\n 'charge240',\n 'cityA08',\n 'cityA08U',\n 'cityCD',\n 'cityE',\n 'cityUF',\n 'co2A',\n 'co2TailpipeAGpm',\n 'combA08',\n 'combA08U',\n 'combE',\n 'combinedCD',\n 'combinedUF',\n 'fuelCostA08',\n 'ghgScoreA',\n 'highwayA08',\n 'highwayA08U',\n 'highwayCD',\n 'highwayE',\n 'highwayUF',\n 'range',\n 'rangeCity',\n 'rangeCityA',\n 'rangeHwy',\n 'rangeHwyA',\n 'UCityA',\n 'UHighwayA',\n 'charge240b',\n 'phevCity',\n 'phevHwy',\n 'phevComb']"
     },
     "execution_count": 15,
     "metadata": {},
     "output_type": "execute_result"
    }
   ],
   "source": [
    "#your code\n",
    "low_variance = []\n",
    "\n",
    "for c in data.select_dtypes(include=np.number):   # para cada columna numerica...\n",
    "\n",
    "    minimo=data[c].min()\n",
    "\n",
    "    per_90=np.percentile(data[c], 90)\n",
    "\n",
    "    if per_90==minimo:\n",
    "\n",
    "        low_variance.append(c)\n",
    "\n",
    "low_variance"
   ]
  },
  {
   "cell_type": "markdown",
   "metadata": {},
   "source": [
    "This returned 34 columns that we could potentially eliminate due to not having high enough variability to be informative. Of course, before we do this, we should check the values that do exist in these fields to confirm that they are not very informative. Once they have been checked, we can use the the drop method like we did earlier in this lesson to remove those columns from our data frame.\n",
    "\n"
   ]
  },
  {
   "cell_type": "markdown",
   "metadata": {},
   "source": [
    "## Use the the drop method like we did earlier in this lesson to remove the non informative columns from our data frame."
   ]
  },
  {
   "cell_type": "code",
   "execution_count": 16,
   "metadata": {},
   "outputs": [],
   "source": [
    "#your code\n",
    "data.drop(low_variance, axis=1, inplace=True)"
   ]
  },
  {
   "cell_type": "markdown",
   "metadata": {},
   "source": [
    "# Extreme Values and Outliers\n",
    "\n",
    "Now that we have removed low variance columns, we should look for outliers, or extreme values, in the columns that remain. These outliers can influence our aggregations when we are analyzing data later, so we want to make sure we address them during our data cleaning stage.\n",
    "\n",
    "A common method for identifying outliers is one that leverages the interquartile range (IQR). Once the IQR is calculated, it is multiplied by a constant (typically 1.5) and lower and upper bounds are established at:\n",
    "\n",
    "    25th Percentile - (IQR x 1.5)\n",
    "    75th Percentile + (IQR x 1.5)\n",
    "\n",
    "Any values outside this range are potential outliers and should be investigated.\n",
    "\n",
    "Let's look at how we would do this for our data set using Python. We will use the Pandas describe function to easily calculate the 25th and 75th percentiles for every column and transpose the results so that we can easily reference the values in calculating the interquartile ranges.\n",
    "\n"
   ]
  },
  {
   "cell_type": "code",
   "execution_count": 17,
   "metadata": {},
   "outputs": [
    {
     "data": {
      "text/plain": "                  count          mean           std       min         25%  \\\nbarrels08       37842.0     17.532486      4.576009      0.06    14.33087   \ncity08          37842.0     17.941467      6.660431      6.00    15.00000   \ncity08U         37842.0      4.042844      9.645926      0.00     0.00000   \nco2             37842.0     61.505364    153.389405     -1.00    -1.00000   \nco2TailpipeGpm  37842.0    473.179193    122.190416      0.00   388.00000   \ncomb08          37842.0     20.195867      6.623522      7.00    17.00000   \ncomb08U         37842.0      4.549871     10.390105      0.00     0.00000   \ncylinders       37842.0      5.719492      1.778960      0.00     4.00000   \ndispl           37842.0      3.307711      1.371961      0.00     2.20000   \nengId           37842.0   8860.543100  17829.860883      0.00     0.00000   \nfeScore         37842.0     -0.035120      2.379610     -1.00    -1.00000   \nfuelCost08      37842.0   1882.060938    510.287124    550.00  1500.00000   \nghgScore        37842.0     -0.037181      2.374365     -1.00    -1.00000   \nhighway08       37842.0     24.104936      6.963275      9.00    20.00000   \nhighway08U      37842.0      5.438611     11.936452      0.00     0.00000   \nhlv             37842.0      2.026267      5.948059      0.00     0.00000   \nhpv             37842.0     10.424608     28.149091      0.00     0.00000   \nid              37842.0  19019.007769  11034.797692      1.00  9461.25000   \nlv2             37842.0      1.849268      4.430031      0.00     0.00000   \nlv4             37842.0      6.165821      9.743374      0.00     0.00000   \npv2             37842.0     13.696475     31.270264      0.00     0.00000   \npv4             37842.0     33.770017     45.914741      0.00     0.00000   \nUCity           37842.0     22.587322      9.350269      0.00    18.00000   \nUHighway        37842.0     33.619287     10.048450      0.00    27.10000   \nyear            37842.0   2000.064769     10.390474   1984.00  1990.00000   \nyouSaveSpend    37842.0  -2659.003224   2553.131933 -22250.00 -4250.00000   \n\n                         50%           75%           max           IQR  \nbarrels08          17.347895     20.600625     47.087143      6.269755  \ncity08             17.000000     20.000000    138.000000      5.000000  \ncity08U             0.000000      0.000000    138.304000      0.000000  \nco2                -1.000000     -1.000000    847.000000      0.000000  \nco2TailpipeGpm    467.736842    555.437500   1269.571429    167.437500  \ncomb08             19.000000     23.000000    124.000000      6.000000  \ncomb08U             0.000000      0.000000    124.360100      0.000000  \ncylinders           6.000000      6.000000     16.000000      2.000000  \ndispl               3.000000      4.300000      8.400000      2.100000  \nengId             211.500000   4505.000000  69102.000000   4505.000000  \nfeScore            -1.000000     -1.000000     10.000000      0.000000  \nfuelCost08       1850.000000   2200.000000   5800.000000    700.000000  \nghgScore           -1.000000     -1.000000     10.000000      0.000000  \nhighway08          24.000000     27.000000    111.000000      7.000000  \nhighway08U          0.000000      0.000000    111.370000      0.000000  \nhlv                 0.000000      0.000000     49.000000      0.000000  \nhpv                 0.000000      0.000000    195.000000      0.000000  \nid              18922.500000  28569.750000  38173.000000  19108.500000  \nlv2                 0.000000      0.000000     41.000000      0.000000  \nlv4                 0.000000     13.000000     55.000000     13.000000  \npv2                 0.000000      0.000000    194.000000      0.000000  \npv4                 0.000000     91.000000    192.000000     91.000000  \nUCity              21.000000     25.139300    197.577100      7.139300  \nUHighway           33.000000     38.109600    159.100000     11.009600  \nyear             2001.000000   2009.000000   2017.000000     19.000000  \nyouSaveSpend    -2500.000000   -750.000000   4000.000000   3500.000000  ",
      "text/html": "<div>\n<style scoped>\n    .dataframe tbody tr th:only-of-type {\n        vertical-align: middle;\n    }\n\n    .dataframe tbody tr th {\n        vertical-align: top;\n    }\n\n    .dataframe thead th {\n        text-align: right;\n    }\n</style>\n<table border=\"1\" class=\"dataframe\">\n  <thead>\n    <tr style=\"text-align: right;\">\n      <th></th>\n      <th>count</th>\n      <th>mean</th>\n      <th>std</th>\n      <th>min</th>\n      <th>25%</th>\n      <th>50%</th>\n      <th>75%</th>\n      <th>max</th>\n      <th>IQR</th>\n    </tr>\n  </thead>\n  <tbody>\n    <tr>\n      <th>barrels08</th>\n      <td>37842.0</td>\n      <td>17.532486</td>\n      <td>4.576009</td>\n      <td>0.06</td>\n      <td>14.33087</td>\n      <td>17.347895</td>\n      <td>20.600625</td>\n      <td>47.087143</td>\n      <td>6.269755</td>\n    </tr>\n    <tr>\n      <th>city08</th>\n      <td>37842.0</td>\n      <td>17.941467</td>\n      <td>6.660431</td>\n      <td>6.00</td>\n      <td>15.00000</td>\n      <td>17.000000</td>\n      <td>20.000000</td>\n      <td>138.000000</td>\n      <td>5.000000</td>\n    </tr>\n    <tr>\n      <th>city08U</th>\n      <td>37842.0</td>\n      <td>4.042844</td>\n      <td>9.645926</td>\n      <td>0.00</td>\n      <td>0.00000</td>\n      <td>0.000000</td>\n      <td>0.000000</td>\n      <td>138.304000</td>\n      <td>0.000000</td>\n    </tr>\n    <tr>\n      <th>co2</th>\n      <td>37842.0</td>\n      <td>61.505364</td>\n      <td>153.389405</td>\n      <td>-1.00</td>\n      <td>-1.00000</td>\n      <td>-1.000000</td>\n      <td>-1.000000</td>\n      <td>847.000000</td>\n      <td>0.000000</td>\n    </tr>\n    <tr>\n      <th>co2TailpipeGpm</th>\n      <td>37842.0</td>\n      <td>473.179193</td>\n      <td>122.190416</td>\n      <td>0.00</td>\n      <td>388.00000</td>\n      <td>467.736842</td>\n      <td>555.437500</td>\n      <td>1269.571429</td>\n      <td>167.437500</td>\n    </tr>\n    <tr>\n      <th>comb08</th>\n      <td>37842.0</td>\n      <td>20.195867</td>\n      <td>6.623522</td>\n      <td>7.00</td>\n      <td>17.00000</td>\n      <td>19.000000</td>\n      <td>23.000000</td>\n      <td>124.000000</td>\n      <td>6.000000</td>\n    </tr>\n    <tr>\n      <th>comb08U</th>\n      <td>37842.0</td>\n      <td>4.549871</td>\n      <td>10.390105</td>\n      <td>0.00</td>\n      <td>0.00000</td>\n      <td>0.000000</td>\n      <td>0.000000</td>\n      <td>124.360100</td>\n      <td>0.000000</td>\n    </tr>\n    <tr>\n      <th>cylinders</th>\n      <td>37842.0</td>\n      <td>5.719492</td>\n      <td>1.778960</td>\n      <td>0.00</td>\n      <td>4.00000</td>\n      <td>6.000000</td>\n      <td>6.000000</td>\n      <td>16.000000</td>\n      <td>2.000000</td>\n    </tr>\n    <tr>\n      <th>displ</th>\n      <td>37842.0</td>\n      <td>3.307711</td>\n      <td>1.371961</td>\n      <td>0.00</td>\n      <td>2.20000</td>\n      <td>3.000000</td>\n      <td>4.300000</td>\n      <td>8.400000</td>\n      <td>2.100000</td>\n    </tr>\n    <tr>\n      <th>engId</th>\n      <td>37842.0</td>\n      <td>8860.543100</td>\n      <td>17829.860883</td>\n      <td>0.00</td>\n      <td>0.00000</td>\n      <td>211.500000</td>\n      <td>4505.000000</td>\n      <td>69102.000000</td>\n      <td>4505.000000</td>\n    </tr>\n    <tr>\n      <th>feScore</th>\n      <td>37842.0</td>\n      <td>-0.035120</td>\n      <td>2.379610</td>\n      <td>-1.00</td>\n      <td>-1.00000</td>\n      <td>-1.000000</td>\n      <td>-1.000000</td>\n      <td>10.000000</td>\n      <td>0.000000</td>\n    </tr>\n    <tr>\n      <th>fuelCost08</th>\n      <td>37842.0</td>\n      <td>1882.060938</td>\n      <td>510.287124</td>\n      <td>550.00</td>\n      <td>1500.00000</td>\n      <td>1850.000000</td>\n      <td>2200.000000</td>\n      <td>5800.000000</td>\n      <td>700.000000</td>\n    </tr>\n    <tr>\n      <th>ghgScore</th>\n      <td>37842.0</td>\n      <td>-0.037181</td>\n      <td>2.374365</td>\n      <td>-1.00</td>\n      <td>-1.00000</td>\n      <td>-1.000000</td>\n      <td>-1.000000</td>\n      <td>10.000000</td>\n      <td>0.000000</td>\n    </tr>\n    <tr>\n      <th>highway08</th>\n      <td>37842.0</td>\n      <td>24.104936</td>\n      <td>6.963275</td>\n      <td>9.00</td>\n      <td>20.00000</td>\n      <td>24.000000</td>\n      <td>27.000000</td>\n      <td>111.000000</td>\n      <td>7.000000</td>\n    </tr>\n    <tr>\n      <th>highway08U</th>\n      <td>37842.0</td>\n      <td>5.438611</td>\n      <td>11.936452</td>\n      <td>0.00</td>\n      <td>0.00000</td>\n      <td>0.000000</td>\n      <td>0.000000</td>\n      <td>111.370000</td>\n      <td>0.000000</td>\n    </tr>\n    <tr>\n      <th>hlv</th>\n      <td>37842.0</td>\n      <td>2.026267</td>\n      <td>5.948059</td>\n      <td>0.00</td>\n      <td>0.00000</td>\n      <td>0.000000</td>\n      <td>0.000000</td>\n      <td>49.000000</td>\n      <td>0.000000</td>\n    </tr>\n    <tr>\n      <th>hpv</th>\n      <td>37842.0</td>\n      <td>10.424608</td>\n      <td>28.149091</td>\n      <td>0.00</td>\n      <td>0.00000</td>\n      <td>0.000000</td>\n      <td>0.000000</td>\n      <td>195.000000</td>\n      <td>0.000000</td>\n    </tr>\n    <tr>\n      <th>id</th>\n      <td>37842.0</td>\n      <td>19019.007769</td>\n      <td>11034.797692</td>\n      <td>1.00</td>\n      <td>9461.25000</td>\n      <td>18922.500000</td>\n      <td>28569.750000</td>\n      <td>38173.000000</td>\n      <td>19108.500000</td>\n    </tr>\n    <tr>\n      <th>lv2</th>\n      <td>37842.0</td>\n      <td>1.849268</td>\n      <td>4.430031</td>\n      <td>0.00</td>\n      <td>0.00000</td>\n      <td>0.000000</td>\n      <td>0.000000</td>\n      <td>41.000000</td>\n      <td>0.000000</td>\n    </tr>\n    <tr>\n      <th>lv4</th>\n      <td>37842.0</td>\n      <td>6.165821</td>\n      <td>9.743374</td>\n      <td>0.00</td>\n      <td>0.00000</td>\n      <td>0.000000</td>\n      <td>13.000000</td>\n      <td>55.000000</td>\n      <td>13.000000</td>\n    </tr>\n    <tr>\n      <th>pv2</th>\n      <td>37842.0</td>\n      <td>13.696475</td>\n      <td>31.270264</td>\n      <td>0.00</td>\n      <td>0.00000</td>\n      <td>0.000000</td>\n      <td>0.000000</td>\n      <td>194.000000</td>\n      <td>0.000000</td>\n    </tr>\n    <tr>\n      <th>pv4</th>\n      <td>37842.0</td>\n      <td>33.770017</td>\n      <td>45.914741</td>\n      <td>0.00</td>\n      <td>0.00000</td>\n      <td>0.000000</td>\n      <td>91.000000</td>\n      <td>192.000000</td>\n      <td>91.000000</td>\n    </tr>\n    <tr>\n      <th>UCity</th>\n      <td>37842.0</td>\n      <td>22.587322</td>\n      <td>9.350269</td>\n      <td>0.00</td>\n      <td>18.00000</td>\n      <td>21.000000</td>\n      <td>25.139300</td>\n      <td>197.577100</td>\n      <td>7.139300</td>\n    </tr>\n    <tr>\n      <th>UHighway</th>\n      <td>37842.0</td>\n      <td>33.619287</td>\n      <td>10.048450</td>\n      <td>0.00</td>\n      <td>27.10000</td>\n      <td>33.000000</td>\n      <td>38.109600</td>\n      <td>159.100000</td>\n      <td>11.009600</td>\n    </tr>\n    <tr>\n      <th>year</th>\n      <td>37842.0</td>\n      <td>2000.064769</td>\n      <td>10.390474</td>\n      <td>1984.00</td>\n      <td>1990.00000</td>\n      <td>2001.000000</td>\n      <td>2009.000000</td>\n      <td>2017.000000</td>\n      <td>19.000000</td>\n    </tr>\n    <tr>\n      <th>youSaveSpend</th>\n      <td>37842.0</td>\n      <td>-2659.003224</td>\n      <td>2553.131933</td>\n      <td>-22250.00</td>\n      <td>-4250.00000</td>\n      <td>-2500.000000</td>\n      <td>-750.000000</td>\n      <td>4000.000000</td>\n      <td>3500.000000</td>\n    </tr>\n  </tbody>\n</table>\n</div>"
     },
     "execution_count": 17,
     "metadata": {},
     "output_type": "execute_result"
    }
   ],
   "source": [
    "#Run this code\n",
    "stats = data.describe().transpose()\n",
    "stats['IQR'] = stats['75%'] - stats['25%']\n",
    "stats"
   ]
  },
  {
   "cell_type": "markdown",
   "metadata": {},
   "source": [
    "We will then create an empty data frame called outliers with the same columns as our data set. Finally, we will loop through each column in the data calculating the lower and upper bounds, retrieving records where the value for that column falls outside the bounds we established, and appending those results to our outlier data frame."
   ]
  },
  {
   "cell_type": "code",
   "execution_count": 18,
   "metadata": {},
   "outputs": [
    {
     "data": {
      "text/plain": "     barrels08 city08  city08U co2  co2TailpipeGpm comb08  comb08U  cylinders  \\\n47      32.961      9      0.0  -1           888.7     10      0.0        8.0   \n58      32.961     10      0.0  -1           888.7     10      0.0        8.0   \n69      32.961     10      0.0  -1           888.7     10      0.0        8.0   \n80      32.961      9      0.0  -1           888.7     10      0.0        8.0   \n275     32.961      9      0.0  -1           888.7     10      0.0        8.0   \n\n     displ             drive  ... pv4            trany UCity UHighway  \\\n47     5.9  Rear-Wheel Drive  ...   0  Automatic 3-spd  11.0     15.0   \n58     5.2  Rear-Wheel Drive  ...   0  Automatic 3-spd  12.0     15.0   \n69     5.2  Rear-Wheel Drive  ...   0  Automatic 3-spd  12.0     15.0   \n80     5.9  Rear-Wheel Drive  ...   0  Automatic 3-spd  11.0     14.0   \n275    7.4  Rear-Wheel Drive  ...   0  Automatic 4-spd  11.0     16.0   \n\n                     VClass  year youSaveSpend                     createdOn  \\\n47                     Vans  1985       -10000  Tue Jan 01 00:00:00 EST 2013   \n58                     Vans  1985       -10000  Tue Jan 01 00:00:00 EST 2013   \n69                     Vans  1985       -10000  Tue Jan 01 00:00:00 EST 2013   \n80                     Vans  1985       -10000  Tue Jan 01 00:00:00 EST 2013   \n275  Standard Pickup Trucks  1993       -10000  Tue Jan 01 00:00:00 EST 2013   \n\n                       modifiedOn    Outlier  \n47   Tue Jan 01 00:00:00 EST 2013  barrels08  \n58   Tue Jan 01 00:00:00 EST 2013  barrels08  \n69   Tue Jan 01 00:00:00 EST 2013  barrels08  \n80   Tue Jan 01 00:00:00 EST 2013  barrels08  \n275  Tue Jan 01 00:00:00 EST 2013  barrels08  \n\n[5 rows x 38 columns]",
      "text/html": "<div>\n<style scoped>\n    .dataframe tbody tr th:only-of-type {\n        vertical-align: middle;\n    }\n\n    .dataframe tbody tr th {\n        vertical-align: top;\n    }\n\n    .dataframe thead th {\n        text-align: right;\n    }\n</style>\n<table border=\"1\" class=\"dataframe\">\n  <thead>\n    <tr style=\"text-align: right;\">\n      <th></th>\n      <th>barrels08</th>\n      <th>city08</th>\n      <th>city08U</th>\n      <th>co2</th>\n      <th>co2TailpipeGpm</th>\n      <th>comb08</th>\n      <th>comb08U</th>\n      <th>cylinders</th>\n      <th>displ</th>\n      <th>drive</th>\n      <th>...</th>\n      <th>pv4</th>\n      <th>trany</th>\n      <th>UCity</th>\n      <th>UHighway</th>\n      <th>VClass</th>\n      <th>year</th>\n      <th>youSaveSpend</th>\n      <th>createdOn</th>\n      <th>modifiedOn</th>\n      <th>Outlier</th>\n    </tr>\n  </thead>\n  <tbody>\n    <tr>\n      <th>47</th>\n      <td>32.961</td>\n      <td>9</td>\n      <td>0.0</td>\n      <td>-1</td>\n      <td>888.7</td>\n      <td>10</td>\n      <td>0.0</td>\n      <td>8.0</td>\n      <td>5.9</td>\n      <td>Rear-Wheel Drive</td>\n      <td>...</td>\n      <td>0</td>\n      <td>Automatic 3-spd</td>\n      <td>11.0</td>\n      <td>15.0</td>\n      <td>Vans</td>\n      <td>1985</td>\n      <td>-10000</td>\n      <td>Tue Jan 01 00:00:00 EST 2013</td>\n      <td>Tue Jan 01 00:00:00 EST 2013</td>\n      <td>barrels08</td>\n    </tr>\n    <tr>\n      <th>58</th>\n      <td>32.961</td>\n      <td>10</td>\n      <td>0.0</td>\n      <td>-1</td>\n      <td>888.7</td>\n      <td>10</td>\n      <td>0.0</td>\n      <td>8.0</td>\n      <td>5.2</td>\n      <td>Rear-Wheel Drive</td>\n      <td>...</td>\n      <td>0</td>\n      <td>Automatic 3-spd</td>\n      <td>12.0</td>\n      <td>15.0</td>\n      <td>Vans</td>\n      <td>1985</td>\n      <td>-10000</td>\n      <td>Tue Jan 01 00:00:00 EST 2013</td>\n      <td>Tue Jan 01 00:00:00 EST 2013</td>\n      <td>barrels08</td>\n    </tr>\n    <tr>\n      <th>69</th>\n      <td>32.961</td>\n      <td>10</td>\n      <td>0.0</td>\n      <td>-1</td>\n      <td>888.7</td>\n      <td>10</td>\n      <td>0.0</td>\n      <td>8.0</td>\n      <td>5.2</td>\n      <td>Rear-Wheel Drive</td>\n      <td>...</td>\n      <td>0</td>\n      <td>Automatic 3-spd</td>\n      <td>12.0</td>\n      <td>15.0</td>\n      <td>Vans</td>\n      <td>1985</td>\n      <td>-10000</td>\n      <td>Tue Jan 01 00:00:00 EST 2013</td>\n      <td>Tue Jan 01 00:00:00 EST 2013</td>\n      <td>barrels08</td>\n    </tr>\n    <tr>\n      <th>80</th>\n      <td>32.961</td>\n      <td>9</td>\n      <td>0.0</td>\n      <td>-1</td>\n      <td>888.7</td>\n      <td>10</td>\n      <td>0.0</td>\n      <td>8.0</td>\n      <td>5.9</td>\n      <td>Rear-Wheel Drive</td>\n      <td>...</td>\n      <td>0</td>\n      <td>Automatic 3-spd</td>\n      <td>11.0</td>\n      <td>14.0</td>\n      <td>Vans</td>\n      <td>1985</td>\n      <td>-10000</td>\n      <td>Tue Jan 01 00:00:00 EST 2013</td>\n      <td>Tue Jan 01 00:00:00 EST 2013</td>\n      <td>barrels08</td>\n    </tr>\n    <tr>\n      <th>275</th>\n      <td>32.961</td>\n      <td>9</td>\n      <td>0.0</td>\n      <td>-1</td>\n      <td>888.7</td>\n      <td>10</td>\n      <td>0.0</td>\n      <td>8.0</td>\n      <td>7.4</td>\n      <td>Rear-Wheel Drive</td>\n      <td>...</td>\n      <td>0</td>\n      <td>Automatic 4-spd</td>\n      <td>11.0</td>\n      <td>16.0</td>\n      <td>Standard Pickup Trucks</td>\n      <td>1993</td>\n      <td>-10000</td>\n      <td>Tue Jan 01 00:00:00 EST 2013</td>\n      <td>Tue Jan 01 00:00:00 EST 2013</td>\n      <td>barrels08</td>\n    </tr>\n  </tbody>\n</table>\n<p>5 rows × 38 columns</p>\n</div>"
     },
     "execution_count": 18,
     "metadata": {},
     "output_type": "execute_result"
    }
   ],
   "source": [
    "#Run this code\n",
    "outliers = pd.DataFrame(columns=data.columns)\n",
    "\n",
    "for col in stats.index:\n",
    "    iqr = stats.at[col,'IQR']\n",
    "    cutoff = iqr * 1.5\n",
    "    lower = stats.at[col,'25%'] - cutoff\n",
    "    upper = stats.at[col,'75%'] + cutoff\n",
    "    results = data[(data[col] < lower) | \n",
    "                   (data[col] > upper)].copy()\n",
    "    results['Outlier'] = col\n",
    "    outliers = outliers.append(results)\n",
    "    \n",
    "\n",
    "outliers.head()"
   ]
  },
  {
   "cell_type": "markdown",
   "metadata": {},
   "source": [
    "Our outliers data frame should now be populated with records that you can investigate further and determine whether they should be kept in the data or dropped. The Outlier column we added before appending the results for the column to the outliers data frame will let you know what column in each record contained the outlier. If you find that this method is returning too many results, you can be more stringent with your cutoff criteria (e.g. increasing the constant by which you multiply the IQR to 3 instead of 1.5)."
   ]
  },
  {
   "cell_type": "markdown",
   "metadata": {},
   "source": [
    "# Data Type Correction\n",
    "\n",
    "One common problem that is often overlooked is incorrect data types. This typically occurs when there is a numeric variable that should actually be represented as a categorical variable. "
   ]
  },
  {
   "cell_type": "markdown",
   "metadata": {},
   "source": [
    "## Check the data type of each column"
   ]
  },
  {
   "cell_type": "code",
   "execution_count": 19,
   "metadata": {},
   "outputs": [
    {
     "data": {
      "text/plain": "barrels08         float64\ncity08              int64\ncity08U           float64\nco2                 int64\nco2TailpipeGpm    float64\ncomb08              int64\ncomb08U           float64\ncylinders         float64\ndispl             float64\ndrive              object\nengId               int64\nfeScore             int64\nfuelCost08          int64\nfuelType           object\nfuelType1          object\nghgScore            int64\nhighway08           int64\nhighway08U        float64\nhlv                 int64\nhpv                 int64\nid                  int64\nlv2                 int64\nlv4                 int64\nmake               object\nmodel              object\nmpgData            object\nphevBlended          bool\npv2                 int64\npv4                 int64\ntrany              object\nUCity             float64\nUHighway          float64\nVClass             object\nyear                int64\nyouSaveSpend        int64\ncreatedOn          object\nmodifiedOn         object\ndtype: object"
     },
     "execution_count": 19,
     "metadata": {},
     "output_type": "execute_result"
    }
   ],
   "source": [
    "##your code\n",
    "data.dtypes"
   ]
  },
  {
   "cell_type": "markdown",
   "metadata": {},
   "source": [
    "## Cleaning years\n",
    "Do you think column year is a continuous variable? Would you change it onto another dtype?"
   ]
  },
  {
   "cell_type": "code",
   "execution_count": 20,
   "metadata": {},
   "outputs": [],
   "source": [
    "#your code\n",
    "data.year = pd.to_datetime(data.year, format='%Y')"
   ]
  },
  {
   "cell_type": "markdown",
   "metadata": {},
   "source": [
    "You can apply this technique to any column whose data type you would like to change."
   ]
  },
  {
   "cell_type": "code",
   "execution_count": 21,
   "metadata": {},
   "outputs": [],
   "source": [
    "#your code\n",
    "data.createdOn = pd.to_datetime(data.createdOn)\n",
    "data.modifiedOn = pd.to_datetime(data.modifiedOn)"
   ]
  },
  {
   "cell_type": "markdown",
   "metadata": {},
   "source": [
    "# Cleaning Text and Removing Special Characters\n",
    "\n",
    "The presence of special characters in our fields has the potential to make analyzing our data challenging. Imagine not being able to perform calculations on a numeric field because it was currently represented as an object data type due to the fact that it had a dollar sign ($) in it. \n",
    "\n",
    "Similarly, imagine having a categorical field where you could not group records that belong in the same group together because in one field you are grouping by, terms that refer to the same thing are sometimes hyphenated. In cases like this, it is necessary to remove special characters so that we can properly analyze the data.\n",
    "\n",
    "In our vehicles data set, the trany field has several special characters (parentheses, hyphens, etc.). Check the unique values and clean the column.\n",
    "\n",
    "hint: check the `replace` function"
   ]
  },
  {
   "cell_type": "code",
   "execution_count": 22,
   "metadata": {},
   "outputs": [],
   "source": [
    "#your code\n",
    "regex_manual='[Mm]anual'\n",
    "select_manual=data[data.trany.str.contains(regex_manual, regex=True)].index\n",
    "data[\"trany\"][select_manual] = \"Manual\""
   ]
  },
  {
   "cell_type": "code",
   "execution_count": 23,
   "metadata": {},
   "outputs": [],
   "source": [
    "#your code\n",
    "regex_automatic='[Aa]uto'\n",
    "select_automatic=data[data.trany.str.contains(regex_automatic, regex=True)].index\n",
    "data[\"trany\"][select_automatic] = \"Automatic\""
   ]
  },
  {
   "cell_type": "code",
   "execution_count": 24,
   "metadata": {},
   "outputs": [
    {
     "data": {
      "text/plain": "7138     Unknown\n7139     Unknown\n8143     Unknown\n8144     Unknown\n8146     Unknown\n8147     Unknown\n9212     Unknown\n9213     Unknown\n10329    Unknown\n19097    Unknown\n19128    Unknown\nName: trany, dtype: object"
     },
     "execution_count": 24,
     "metadata": {},
     "output_type": "execute_result"
    }
   ],
   "source": [
    "#your code\n",
    "# All values now are Manual, Automatic or Unknown\n",
    "data[\"trany\"][(data.trany != \"Automatic\") & (data.trany != \"Manual\")]"
   ]
  },
  {
   "cell_type": "markdown",
   "metadata": {},
   "source": [
    "As you can see, we now have no special characters, consistent naming, and proper spacing. We started out with 47 unique values in this column, and using this technique, we were able to reduce the number of unique values to 39.\n",
    "\n",
    "\n",
    "\n",
    "# Finding and Removing Duplicates\n",
    "\n",
    "The final topic we are going to cover in this lab is how to identify and remove duplicate rows (or rows that refer to the same entity) in our data. When trying to identify duplicates, we will use the columns (or attributes) of the data to help us determine what entities are similar enough to be considered the same entity. We want to start with all the columns we currently have available to us and work our way toward a lesser number of attributes in an intuitive fashion. In this process, the act of dropping duplicated records is easy, but identifying the correct attributes for comparison and which records to drop is sometimes quite challenging.\n",
    "\n",
    "The first thing we will do is attempt to drop any duplicate records, considering all the columns we currently have in the data set. \n",
    "\n",
    "Pandas provides us with the ability to do that via the `drop_duplicates method`."
   ]
  },
  {
   "cell_type": "markdown",
   "metadata": {},
   "source": [
    "## Drop duplicate rows that are completely equal"
   ]
  },
  {
   "cell_type": "code",
   "execution_count": 25,
   "metadata": {},
   "outputs": [],
   "source": [
    "#your code\n",
    "data=data.drop_duplicates()"
   ]
  },
  {
   "cell_type": "markdown",
   "metadata": {},
   "source": [
    "This tells us that there were no records that matched exactly across all columns. However, if we reduce the number of columns in our data that we are interested in, we can try again and have a higher likelihood of finding duplicate records. "
   ]
  },
  {
   "cell_type": "markdown",
   "metadata": {},
   "source": [
    "## Select a subset of columns, remove all other columns, and then use the drop_duplicates method to drop any duplicate records based on the remaining columns."
   ]
  },
  {
   "cell_type": "code",
   "execution_count": 26,
   "metadata": {},
   "outputs": [],
   "source": [
    "#your code\n",
    "data=data.drop_duplicates()"
   ]
  },
  {
   "cell_type": "markdown",
   "metadata": {},
   "source": [
    "With the reduced number of columns, we were able to identify and drop 885 duplicate records."
   ]
  },
  {
   "cell_type": "markdown",
   "metadata": {},
   "source": [
    "# Export clean dataset\n",
    "Export your bright new clean dataset into a csv file and store it in data folder."
   ]
  },
  {
   "cell_type": "code",
   "execution_count": 27,
   "metadata": {
    "pycharm": {
     "name": "#%%\n"
    }
   },
   "outputs": [],
   "source": [
    "#your code\n",
    "data.to_csv(\"../data/vehicles.csv\", index=False)"
   ]
  }
 ],
 "metadata": {
  "kernelspec": {
   "display_name": "Python 3",
   "language": "python",
   "name": "python3"
  },
  "language_info": {
   "codemirror_mode": {
    "name": "ipython",
    "version": 3
   },
   "file_extension": ".py",
   "mimetype": "text/x-python",
   "name": "python",
   "nbconvert_exporter": "python",
   "pygments_lexer": "ipython3",
   "version": "3.8.5"
  },
  "toc": {
   "base_numbering": 1,
   "nav_menu": {},
   "number_sections": true,
   "sideBar": true,
   "skip_h1_title": false,
   "title_cell": "Table of Contents",
   "title_sidebar": "Contents",
   "toc_cell": true,
   "toc_position": {},
   "toc_section_display": true,
   "toc_window_display": false
  },
  "varInspector": {
   "cols": {
    "lenName": 16,
    "lenType": 16,
    "lenVar": 40
   },
   "kernels_config": {
    "python": {
     "delete_cmd_postfix": "",
     "delete_cmd_prefix": "del ",
     "library": "var_list.py",
     "varRefreshCmd": "print(var_dic_list())"
    },
    "r": {
     "delete_cmd_postfix": ") ",
     "delete_cmd_prefix": "rm(",
     "library": "var_list.r",
     "varRefreshCmd": "cat(var_dic_list()) "
    }
   },
   "types_to_exclude": [
    "module",
    "function",
    "builtin_function_or_method",
    "instance",
    "_Feature"
   ],
   "window_display": false
  }
 },
 "nbformat": 4,
 "nbformat_minor": 2
}