{
 "cells": [
  {
   "cell_type": "markdown",
   "metadata": {
    "toc": true
   },
   "source": [
    "<h1>Table of Contents<span class=\"tocSkip\"></span></h1>\n",
    "<div class=\"toc\"><ul class=\"toc-item\"><li><span><a href=\"#Data-Cleaning\" data-toc-modified-id=\"Data-Cleaning-1\"><span class=\"toc-item-num\">1&nbsp;&nbsp;</span>Data Cleaning</a></span></li><li><span><a href=\"#Examining-Data-for-Potential-Issues\" data-toc-modified-id=\"Examining-Data-for-Potential-Issues-2\"><span class=\"toc-item-num\">2&nbsp;&nbsp;</span>Examining Data for Potential Issues</a></span></li><li><span><a href=\"#Missing-Values\" data-toc-modified-id=\"Missing-Values-3\"><span class=\"toc-item-num\">3&nbsp;&nbsp;</span>Missing Values</a></span><ul class=\"toc-item\"><li><span><a href=\"#Show-the-number-of-null-values-only-of-the-columns-that-actually-have-null-values\" data-toc-modified-id=\"Show-the-number-of-null-values-only-of-the-columns-that-actually-have-null-values-3.1\"><span class=\"toc-item-num\">3.1&nbsp;&nbsp;</span>Show the number of null values only of the columns that actually have null values</a></span></li><li><span><a href=\"#Remove-the-columns-that-have-more-than-10,000-null-values-in-them\" data-toc-modified-id=\"Remove-the-columns-that-have-more-than-10,000-null-values-in-them-3.2\"><span class=\"toc-item-num\">3.2&nbsp;&nbsp;</span>Remove the columns that have more than 10,000 null values in them</a></span></li><li><span><a href=\"#Create-a-new-dataframe-that-shows-only-the-row-where-displ-is-null.\" data-toc-modified-id=\"Create-a-new-dataframe-that-shows-only-the-row-where-displ-is-null.-3.3\"><span class=\"toc-item-num\">3.3&nbsp;&nbsp;</span>Create a new dataframe that shows only the row where <code>displ</code> is null.</a></span></li><li><span><a href=\"#Fill-nan-values-with-the-most-appropriate-technique\" data-toc-modified-id=\"Fill-nan-values-with-the-most-appropriate-technique-3.4\"><span class=\"toc-item-num\">3.4&nbsp;&nbsp;</span>Fill nan values with the most appropriate technique</a></span></li><li><span><a href=\"#Bonus:\" data-toc-modified-id=\"Bonus:-3.5\"><span class=\"toc-item-num\">3.5&nbsp;&nbsp;</span>Bonus:</a></span></li></ul></li><li><span><a href=\"#Incorrect-Values\" data-toc-modified-id=\"Incorrect-Values-4\"><span class=\"toc-item-num\">4&nbsp;&nbsp;</span>Incorrect Values</a></span><ul class=\"toc-item\"><li><span><a href=\"#Check-similar-rows\" data-toc-modified-id=\"Check-similar-rows-4.1\"><span class=\"toc-item-num\">4.1&nbsp;&nbsp;</span>Check similar rows</a></span></li><li><span><a href=\"#Bonus:\" data-toc-modified-id=\"Bonus:-4.2\"><span class=\"toc-item-num\">4.2&nbsp;&nbsp;</span>Bonus:</a></span></li></ul></li><li><span><a href=\"#Low-Variance-Columns\" data-toc-modified-id=\"Low-Variance-Columns-5\"><span class=\"toc-item-num\">5&nbsp;&nbsp;</span>Low Variance Columns</a></span><ul class=\"toc-item\"><li><span><a href=\"#Use-the-the-drop-method-like-we-did-earlier-in-this-lesson-to-remove-the-non-informative-columns-from-our-data-frame.\" data-toc-modified-id=\"Use-the-the-drop-method-like-we-did-earlier-in-this-lesson-to-remove-the-non-informative-columns-from-our-data-frame.-5.1\"><span class=\"toc-item-num\">5.1&nbsp;&nbsp;</span>Use the the drop method like we did earlier in this lesson to remove the non informative columns from our data frame.</a></span></li></ul></li><li><span><a href=\"#Extreme-Values-and-Outliers\" data-toc-modified-id=\"Extreme-Values-and-Outliers-6\"><span class=\"toc-item-num\">6&nbsp;&nbsp;</span>Extreme Values and Outliers</a></span></li><li><span><a href=\"#Data-Type-Correction\" data-toc-modified-id=\"Data-Type-Correction-7\"><span class=\"toc-item-num\">7&nbsp;&nbsp;</span>Data Type Correction</a></span><ul class=\"toc-item\"><li><span><a href=\"#Check-the-data-type-of-each-column\" data-toc-modified-id=\"Check-the-data-type-of-each-column-7.1\"><span class=\"toc-item-num\">7.1&nbsp;&nbsp;</span>Check the data type of each column</a></span></li><li><span><a href=\"#Cleaning-years\" data-toc-modified-id=\"Cleaning-years-7.2\"><span class=\"toc-item-num\">7.2&nbsp;&nbsp;</span>Cleaning years</a></span></li></ul></li><li><span><a href=\"#Cleaning-Text-and-Removing-Special-Characters\" data-toc-modified-id=\"Cleaning-Text-and-Removing-Special-Characters-8\"><span class=\"toc-item-num\">8&nbsp;&nbsp;</span>Cleaning Text and Removing Special Characters</a></span></li><li><span><a href=\"#Finding-and-Removing-Duplicates\" data-toc-modified-id=\"Finding-and-Removing-Duplicates-9\"><span class=\"toc-item-num\">9&nbsp;&nbsp;</span>Finding and Removing Duplicates</a></span><ul class=\"toc-item\"><li><span><a href=\"#Drop-duplicate-rows-that-are-completely-equal\" data-toc-modified-id=\"Drop-duplicate-rows-that-are-completely-equal-9.1\"><span class=\"toc-item-num\">9.1&nbsp;&nbsp;</span>Drop duplicate rows that are completely equal</a></span></li><li><span><a href=\"#Select-a-subset-of-columns,-remove-all-other-columns,-and-then-use-the-drop_duplicates-method-to-drop-any-duplicate-records-based-on-the-remaining-columns.\" data-toc-modified-id=\"Select-a-subset-of-columns,-remove-all-other-columns,-and-then-use-the-drop_duplicates-method-to-drop-any-duplicate-records-based-on-the-remaining-columns.-9.2\"><span class=\"toc-item-num\">9.2&nbsp;&nbsp;</span>Select a subset of columns, remove all other columns, and then use the drop_duplicates method to drop any duplicate records based on the remaining columns.</a></span></li></ul></li><li><span><a href=\"#Export-clean-dataset\" data-toc-modified-id=\"Export-clean-dataset-10\"><span class=\"toc-item-num\">10&nbsp;&nbsp;</span>Export clean dataset</a></span></li></ul></div>"
   ]
  },
  {
   "cell_type": "markdown",
   "metadata": {},
   "source": [
    "# Data Cleaning\n",
    "\n",
    "\n",
    "Lab Goals\n",
    "\n",
    "+ Examine data for potential issues.\n",
    "+ Identify and fill in missing values.\n",
    "+ Identify and correct incorrect values.\n",
    "+ Remove low variance columns.\n",
    "+ Identify potential outliers.\n",
    "+ Correct incorrect data types.\n",
    "+ Remove special characters and clean categorical variables.\n",
    "+ Identify and remove duplicate records.\n",
    "\n",
    "Introduction\n",
    "\n",
    "When working with data sets, you will find that they often require a bit of cleaning. Whether Pandas originally read the data types incorrectly, records are duplicated, the data contains special characters or missing value, or there are slightly different references to the same entity, every data analyst must know how to clean the data they are working with before analyzing it. In this lesson, you will learn about some of the most common problems that make data messy and methods for correcting those problems and cleaning your data.\n",
    "\n",
    "The data set we are going to be using for this lesson is a messy version of the vehicles data set we worked with in the previous lesson. Let's import this version of our data set so that we can then practice cleaning it up."
   ]
  },
  {
   "cell_type": "code",
   "execution_count": 139,
   "metadata": {},
   "outputs": [],
   "source": [
    "import pandas as pd\n",
    "import numpy as np"
   ]
  },
  {
   "cell_type": "code",
   "execution_count": 140,
   "metadata": {},
   "outputs": [
    {
     "name": "stderr",
     "output_type": "stream",
     "text": [
      "/Users/danigomezlechonbarrachina/opt/anaconda3/lib/python3.9/site-packages/IPython/core/interactiveshell.py:3444: DtypeWarning: Columns (70,71,72,73,74,76,79) have mixed types.Specify dtype option on import or set low_memory=False.\n",
      "  exec(code_obj, self.user_global_ns, self.user_ns)\n"
     ]
    }
   ],
   "source": [
    "#Load data from vehicles_messy.csv\n",
    "\n",
    "data = pd.read_csv('../data/vehicles_messy.csv')"
   ]
  },
  {
   "cell_type": "markdown",
   "metadata": {},
   "source": [
    "# Examining Data for Potential Issues\n",
    "\n",
    "One of the first things we want to do is examine the data and look for any **potential issues**. Some of the things we are interested in identifying in the data at this stage include:\n",
    "\n",
    "- Missing values\n",
    "- Special characters\n",
    "- Incorrect values\n",
    "- Extreme values or outliers\n",
    "- Duplicate records\n",
    "- Incorrect data types\n",
    "\n",
    "The presence of these may cause problems when it's time to analyze the data, so we want to make sure we address them beforehand. We can start by visually inspecting the data using the `.head` method, which will show us the first 5 rows of data. "
   ]
  },
  {
   "cell_type": "code",
   "execution_count": 141,
   "metadata": {},
   "outputs": [
    {
     "data": {
      "text/html": [
       "<div>\n",
       "<style scoped>\n",
       "    .dataframe tbody tr th:only-of-type {\n",
       "        vertical-align: middle;\n",
       "    }\n",
       "\n",
       "    .dataframe tbody tr th {\n",
       "        vertical-align: top;\n",
       "    }\n",
       "\n",
       "    .dataframe thead th {\n",
       "        text-align: right;\n",
       "    }\n",
       "</style>\n",
       "<table border=\"1\" class=\"dataframe\">\n",
       "  <thead>\n",
       "    <tr style=\"text-align: right;\">\n",
       "      <th></th>\n",
       "      <th>barrels08</th>\n",
       "      <th>barrelsA08</th>\n",
       "      <th>charge120</th>\n",
       "      <th>charge240</th>\n",
       "      <th>city08</th>\n",
       "      <th>city08U</th>\n",
       "      <th>cityA08</th>\n",
       "      <th>cityA08U</th>\n",
       "      <th>cityCD</th>\n",
       "      <th>cityE</th>\n",
       "      <th>...</th>\n",
       "      <th>mfrCode</th>\n",
       "      <th>c240Dscr</th>\n",
       "      <th>charge240b</th>\n",
       "      <th>c240bDscr</th>\n",
       "      <th>createdOn</th>\n",
       "      <th>modifiedOn</th>\n",
       "      <th>startStop</th>\n",
       "      <th>phevCity</th>\n",
       "      <th>phevHwy</th>\n",
       "      <th>phevComb</th>\n",
       "    </tr>\n",
       "  </thead>\n",
       "  <tbody>\n",
       "    <tr>\n",
       "      <th>0</th>\n",
       "      <td>15.695714</td>\n",
       "      <td>0.0</td>\n",
       "      <td>0.0</td>\n",
       "      <td>0.0</td>\n",
       "      <td>19</td>\n",
       "      <td>0.0</td>\n",
       "      <td>0</td>\n",
       "      <td>0.0</td>\n",
       "      <td>0.0</td>\n",
       "      <td>0.0</td>\n",
       "      <td>...</td>\n",
       "      <td>NaN</td>\n",
       "      <td>NaN</td>\n",
       "      <td>0.0</td>\n",
       "      <td>NaN</td>\n",
       "      <td>Tue Jan 01 00:00:00 EST 2013</td>\n",
       "      <td>Tue Jan 01 00:00:00 EST 2013</td>\n",
       "      <td>NaN</td>\n",
       "      <td>0</td>\n",
       "      <td>0</td>\n",
       "      <td>0</td>\n",
       "    </tr>\n",
       "    <tr>\n",
       "      <th>1</th>\n",
       "      <td>29.964545</td>\n",
       "      <td>0.0</td>\n",
       "      <td>0.0</td>\n",
       "      <td>0.0</td>\n",
       "      <td>9</td>\n",
       "      <td>0.0</td>\n",
       "      <td>0</td>\n",
       "      <td>0.0</td>\n",
       "      <td>0.0</td>\n",
       "      <td>0.0</td>\n",
       "      <td>...</td>\n",
       "      <td>NaN</td>\n",
       "      <td>NaN</td>\n",
       "      <td>0.0</td>\n",
       "      <td>NaN</td>\n",
       "      <td>Tue Jan 01 00:00:00 EST 2013</td>\n",
       "      <td>Tue Jan 01 00:00:00 EST 2013</td>\n",
       "      <td>NaN</td>\n",
       "      <td>0</td>\n",
       "      <td>0</td>\n",
       "      <td>0</td>\n",
       "    </tr>\n",
       "    <tr>\n",
       "      <th>2</th>\n",
       "      <td>12.207778</td>\n",
       "      <td>0.0</td>\n",
       "      <td>0.0</td>\n",
       "      <td>0.0</td>\n",
       "      <td>23</td>\n",
       "      <td>0.0</td>\n",
       "      <td>0</td>\n",
       "      <td>0.0</td>\n",
       "      <td>0.0</td>\n",
       "      <td>0.0</td>\n",
       "      <td>...</td>\n",
       "      <td>NaN</td>\n",
       "      <td>NaN</td>\n",
       "      <td>0.0</td>\n",
       "      <td>NaN</td>\n",
       "      <td>Tue Jan 01 00:00:00 EST 2013</td>\n",
       "      <td>Tue Jan 01 00:00:00 EST 2013</td>\n",
       "      <td>NaN</td>\n",
       "      <td>0</td>\n",
       "      <td>0</td>\n",
       "      <td>0</td>\n",
       "    </tr>\n",
       "    <tr>\n",
       "      <th>3</th>\n",
       "      <td>29.964545</td>\n",
       "      <td>0.0</td>\n",
       "      <td>0.0</td>\n",
       "      <td>0.0</td>\n",
       "      <td>10</td>\n",
       "      <td>0.0</td>\n",
       "      <td>0</td>\n",
       "      <td>0.0</td>\n",
       "      <td>0.0</td>\n",
       "      <td>0.0</td>\n",
       "      <td>...</td>\n",
       "      <td>NaN</td>\n",
       "      <td>NaN</td>\n",
       "      <td>0.0</td>\n",
       "      <td>NaN</td>\n",
       "      <td>Tue Jan 01 00:00:00 EST 2013</td>\n",
       "      <td>Tue Jan 01 00:00:00 EST 2013</td>\n",
       "      <td>NaN</td>\n",
       "      <td>0</td>\n",
       "      <td>0</td>\n",
       "      <td>0</td>\n",
       "    </tr>\n",
       "    <tr>\n",
       "      <th>4</th>\n",
       "      <td>17.347895</td>\n",
       "      <td>0.0</td>\n",
       "      <td>0.0</td>\n",
       "      <td>0.0</td>\n",
       "      <td>17</td>\n",
       "      <td>0.0</td>\n",
       "      <td>0</td>\n",
       "      <td>0.0</td>\n",
       "      <td>0.0</td>\n",
       "      <td>0.0</td>\n",
       "      <td>...</td>\n",
       "      <td>NaN</td>\n",
       "      <td>NaN</td>\n",
       "      <td>0.0</td>\n",
       "      <td>NaN</td>\n",
       "      <td>Tue Jan 01 00:00:00 EST 2013</td>\n",
       "      <td>Tue Jan 01 00:00:00 EST 2013</td>\n",
       "      <td>NaN</td>\n",
       "      <td>0</td>\n",
       "      <td>0</td>\n",
       "      <td>0</td>\n",
       "    </tr>\n",
       "  </tbody>\n",
       "</table>\n",
       "<p>5 rows × 83 columns</p>\n",
       "</div>"
      ],
      "text/plain": [
       "   barrels08  barrelsA08  charge120  charge240  city08  city08U  cityA08  \\\n",
       "0  15.695714         0.0        0.0        0.0      19      0.0        0   \n",
       "1  29.964545         0.0        0.0        0.0       9      0.0        0   \n",
       "2  12.207778         0.0        0.0        0.0      23      0.0        0   \n",
       "3  29.964545         0.0        0.0        0.0      10      0.0        0   \n",
       "4  17.347895         0.0        0.0        0.0      17      0.0        0   \n",
       "\n",
       "   cityA08U  cityCD  cityE  ...  mfrCode  c240Dscr  charge240b  c240bDscr  \\\n",
       "0       0.0     0.0    0.0  ...      NaN       NaN         0.0        NaN   \n",
       "1       0.0     0.0    0.0  ...      NaN       NaN         0.0        NaN   \n",
       "2       0.0     0.0    0.0  ...      NaN       NaN         0.0        NaN   \n",
       "3       0.0     0.0    0.0  ...      NaN       NaN         0.0        NaN   \n",
       "4       0.0     0.0    0.0  ...      NaN       NaN         0.0        NaN   \n",
       "\n",
       "                      createdOn                    modifiedOn  startStop  \\\n",
       "0  Tue Jan 01 00:00:00 EST 2013  Tue Jan 01 00:00:00 EST 2013        NaN   \n",
       "1  Tue Jan 01 00:00:00 EST 2013  Tue Jan 01 00:00:00 EST 2013        NaN   \n",
       "2  Tue Jan 01 00:00:00 EST 2013  Tue Jan 01 00:00:00 EST 2013        NaN   \n",
       "3  Tue Jan 01 00:00:00 EST 2013  Tue Jan 01 00:00:00 EST 2013        NaN   \n",
       "4  Tue Jan 01 00:00:00 EST 2013  Tue Jan 01 00:00:00 EST 2013        NaN   \n",
       "\n",
       "   phevCity  phevHwy  phevComb  \n",
       "0         0        0         0  \n",
       "1         0        0         0  \n",
       "2         0        0         0  \n",
       "3         0        0         0  \n",
       "4         0        0         0  \n",
       "\n",
       "[5 rows x 83 columns]"
      ]
     },
     "execution_count": 141,
     "metadata": {},
     "output_type": "execute_result"
    }
   ],
   "source": [
    "data.head()\n"
   ]
  },
  {
   "cell_type": "markdown",
   "metadata": {},
   "source": [
    "But how big actually is our dataframe??? Check it with `.shape` method"
   ]
  },
  {
   "cell_type": "code",
   "execution_count": 142,
   "metadata": {},
   "outputs": [
    {
     "data": {
      "text/plain": [
       "(37843, 83)"
      ]
     },
     "execution_count": 142,
     "metadata": {},
     "output_type": "execute_result"
    }
   ],
   "source": [
    "data.shape"
   ]
  },
  {
   "cell_type": "markdown",
   "metadata": {},
   "source": [
    "Let's dive a little more in the content of our data set. Is there any method that shows us the **column names**, its **data types** and number of **non-null values**?"
   ]
  },
  {
   "cell_type": "code",
   "execution_count": 143,
   "metadata": {},
   "outputs": [
    {
     "name": "stdout",
     "output_type": "stream",
     "text": [
      "<class 'pandas.core.frame.DataFrame'>\n",
      "RangeIndex: 37843 entries, 0 to 37842\n",
      "Data columns (total 83 columns):\n",
      " #   Column           Non-Null Count  Dtype  \n",
      "---  ------           --------------  -----  \n",
      " 0   barrels08        37843 non-null  float64\n",
      " 1   barrelsA08       37843 non-null  float64\n",
      " 2   charge120        37843 non-null  float64\n",
      " 3   charge240        37843 non-null  float64\n",
      " 4   city08           37843 non-null  int64  \n",
      " 5   city08U          37843 non-null  float64\n",
      " 6   cityA08          37843 non-null  int64  \n",
      " 7   cityA08U         37843 non-null  float64\n",
      " 8   cityCD           37843 non-null  float64\n",
      " 9   cityE            37843 non-null  float64\n",
      " 10  cityUF           37843 non-null  float64\n",
      " 11  co2              37843 non-null  int64  \n",
      " 12  co2A             37843 non-null  int64  \n",
      " 13  co2TailpipeAGpm  37843 non-null  float64\n",
      " 14  co2TailpipeGpm   37843 non-null  float64\n",
      " 15  comb08           37843 non-null  int64  \n",
      " 16  comb08U          37843 non-null  float64\n",
      " 17  combA08          37843 non-null  int64  \n",
      " 18  combA08U         37843 non-null  float64\n",
      " 19  combE            37843 non-null  float64\n",
      " 20  combinedCD       37843 non-null  float64\n",
      " 21  combinedUF       37843 non-null  float64\n",
      " 22  cylinders        37720 non-null  float64\n",
      " 23  displ            37723 non-null  float64\n",
      " 24  drive            36654 non-null  object \n",
      " 25  engId            37843 non-null  int64  \n",
      " 26  eng_dscr         22440 non-null  object \n",
      " 27  feScore          37843 non-null  int64  \n",
      " 28  fuelCost08       37843 non-null  int64  \n",
      " 29  fuelCostA08      37843 non-null  int64  \n",
      " 30  fuelType         37843 non-null  object \n",
      " 31  fuelType1        37843 non-null  object \n",
      " 32  ghgScore         37843 non-null  int64  \n",
      " 33  ghgScoreA        37843 non-null  int64  \n",
      " 34  highway08        37843 non-null  int64  \n",
      " 35  highway08U       37843 non-null  float64\n",
      " 36  highwayA08       37843 non-null  int64  \n",
      " 37  highwayA08U      37843 non-null  float64\n",
      " 38  highwayCD        37843 non-null  float64\n",
      " 39  highwayE         37843 non-null  float64\n",
      " 40  highwayUF        37843 non-null  float64\n",
      " 41  hlv              37843 non-null  int64  \n",
      " 42  hpv              37843 non-null  int64  \n",
      " 43  id               37843 non-null  int64  \n",
      " 44  lv2              37843 non-null  int64  \n",
      " 45  lv4              37843 non-null  int64  \n",
      " 46  make             37843 non-null  object \n",
      " 47  model            37843 non-null  object \n",
      " 48  mpgData          37843 non-null  object \n",
      " 49  phevBlended      37843 non-null  bool   \n",
      " 50  pv2              37843 non-null  int64  \n",
      " 51  pv4              37843 non-null  int64  \n",
      " 52  range            37843 non-null  int64  \n",
      " 53  rangeCity        37843 non-null  float64\n",
      " 54  rangeCityA       37843 non-null  float64\n",
      " 55  rangeHwy         37843 non-null  float64\n",
      " 56  rangeHwyA        37843 non-null  float64\n",
      " 57  trany            37832 non-null  object \n",
      " 58  UCity            37843 non-null  float64\n",
      " 59  UCityA           37843 non-null  float64\n",
      " 60  UHighway         37843 non-null  float64\n",
      " 61  UHighwayA        37843 non-null  float64\n",
      " 62  VClass           37843 non-null  object \n",
      " 63  year             37843 non-null  int64  \n",
      " 64  youSaveSpend     37843 non-null  int64  \n",
      " 65  guzzler          2281 non-null   object \n",
      " 66  trans_dscr       15047 non-null  object \n",
      " 67  tCharger         5186 non-null   object \n",
      " 68  sCharger         666 non-null    object \n",
      " 69  atvType          3072 non-null   object \n",
      " 70  fuelType2        1408 non-null   object \n",
      " 71  rangeA           1403 non-null   object \n",
      " 72  evMotor          562 non-null    object \n",
      " 73  mfrCode          7025 non-null   object \n",
      " 74  c240Dscr         37 non-null     object \n",
      " 75  charge240b       37843 non-null  float64\n",
      " 76  c240bDscr        36 non-null     object \n",
      " 77  createdOn        37843 non-null  object \n",
      " 78  modifiedOn       37843 non-null  object \n",
      " 79  startStop        6138 non-null   object \n",
      " 80  phevCity         37843 non-null  int64  \n",
      " 81  phevHwy          37843 non-null  int64  \n",
      " 82  phevComb         37843 non-null  int64  \n",
      "dtypes: bool(1), float64(32), int64(27), object(23)\n",
      "memory usage: 23.7+ MB\n"
     ]
    }
   ],
   "source": [
    "data.info()"
   ]
  },
  {
   "cell_type": "markdown",
   "metadata": {},
   "source": [
    "# Missing Values\n",
    "\n",
    "From this initial view, we can see that our data set contains some columns that have missing values in them and others that seem to have a lot of zero values. \n",
    "\n",
    "Let's see how prevalent missing values are in our data. We can use the Pandas `.isnull()` method to check whether the value in each field is missing (*null*) and return either True or False for each field. \n",
    "\n",
    "We can use the `.sum()` method to total up the number of True values by column, and then we can add a condition using square brackets that will filter the data and show us only columns where the number of null values were greater than zero. "
   ]
  },
  {
   "cell_type": "markdown",
   "metadata": {},
   "source": [
    "## Show the number of null values only of the columns that actually have null values"
   ]
  },
  {
   "cell_type": "code",
   "execution_count": 144,
   "metadata": {},
   "outputs": [
    {
     "data": {
      "text/plain": [
       "cylinders       123\n",
       "displ           120\n",
       "drive          1189\n",
       "eng_dscr      15403\n",
       "trany            11\n",
       "guzzler       35562\n",
       "trans_dscr    22796\n",
       "tCharger      32657\n",
       "sCharger      37177\n",
       "atvType       34771\n",
       "fuelType2     36435\n",
       "rangeA        36440\n",
       "evMotor       37281\n",
       "mfrCode       30818\n",
       "c240Dscr      37806\n",
       "c240bDscr     37807\n",
       "startStop     31705\n",
       "dtype: int64"
      ]
     },
     "execution_count": 144,
     "metadata": {},
     "output_type": "execute_result"
    }
   ],
   "source": [
    "nan_cols=data.isna().sum()\n",
    "nan_cols[nan_cols>0]"
   ]
  },
  {
   "cell_type": "markdown",
   "metadata": {},
   "source": [
    "We can see that some columns have relatively few null values while others have tens of thousands of nulls. For fields that have a lot of null values, you will often have to make a judgement call. If you don't think the information is going to be very useful to your analysis, then you would remove those columns from your data frame. "
   ]
  },
  {
   "cell_type": "markdown",
   "metadata": {},
   "source": [
    "## Remove the columns that have more than 10,000 null values in them"
   ]
  },
  {
   "cell_type": "markdown",
   "metadata": {},
   "source": [
    "In Pandas, we can do that using the drop method. For our purposes, let's remove the columns that have more than 10,000 null values in them. We will add these column names to a list, and then we will pass those columns to the drop method and indicate that we want columns (not rows) dropped by setting the axis parameter to 1. "
   ]
  },
  {
   "cell_type": "code",
   "execution_count": 145,
   "metadata": {},
   "outputs": [],
   "source": [
    "cols=nan_cols[nan_cols>10000]\n",
    "\n"
   ]
  },
  {
   "cell_type": "code",
   "execution_count": 146,
   "metadata": {},
   "outputs": [
    {
     "data": {
      "text/plain": [
       "cylinders     123\n",
       "displ         120\n",
       "drive        1189\n",
       "trany          11\n",
       "dtype: int64"
      ]
     },
     "execution_count": 146,
     "metadata": {},
     "output_type": "execute_result"
    }
   ],
   "source": [
    "\n",
    "data.drop(cols.index,axis=1,inplace=True)\n",
    "nan_cols=data.isna().sum()\n",
    "nan_cols[nan_cols>0]  "
   ]
  },
  {
   "cell_type": "markdown",
   "metadata": {},
   "source": [
    "This leaves us with just a handful of remaining columns that have null values. Of the columns that remain, it looks like the cylinders column and the displ column have a similar number of nulls. Perhaps they are missing for similar reasons. We can investigate this by subsetting the data set and looking at just the records where displ is null and just the columns we think will be informative in allowing us to determine a reason. "
   ]
  },
  {
   "cell_type": "markdown",
   "metadata": {},
   "source": [
    "## Create a new dataframe that shows only the row where `displ` is null. \n",
    "Keep only the columns you think are useful"
   ]
  },
  {
   "cell_type": "code",
   "execution_count": 147,
   "metadata": {},
   "outputs": [
    {
     "data": {
      "text/plain": [
       "7138     True\n",
       "7139     True\n",
       "8143     True\n",
       "8144     True\n",
       "8146     True\n",
       "         ... \n",
       "30969    True\n",
       "30972    True\n",
       "30973    True\n",
       "30974    True\n",
       "30975    True\n",
       "Name: displ, Length: 120, dtype: bool"
      ]
     },
     "execution_count": 147,
     "metadata": {},
     "output_type": "execute_result"
    }
   ],
   "source": [
    "new_data=data.displ.isna().copy()\n",
    "new_data=new_data[new_data==True]\n",
    "new_data"
   ]
  },
  {
   "cell_type": "markdown",
   "metadata": {},
   "source": [
    "## Fill nan values with the most appropriate technique \n",
    "*HINT: Electric cars do not have cylinders and can therefore not have any displacement*"
   ]
  },
  {
   "cell_type": "code",
   "execution_count": 148,
   "metadata": {},
   "outputs": [],
   "source": [
    "data.displ.fillna(0.0,inplace=True) #Rellenamos los nan con 0 ya que no tienen displacement"
   ]
  },
  {
   "cell_type": "code",
   "execution_count": 149,
   "metadata": {},
   "outputs": [
    {
     "data": {
      "text/plain": [
       "Series([], Name: displ, dtype: bool)"
      ]
     },
     "execution_count": 149,
     "metadata": {},
     "output_type": "execute_result"
    }
   ],
   "source": [
    "#Comprobamos que todos los Nan de la columna displ esten rellenados\n",
    "new_data2=data.displ.isna().copy()  \n",
    "new_data2=new_data2[new_data2==True]\n",
    "new_data2"
   ]
  },
  {
   "cell_type": "code",
   "execution_count": 150,
   "metadata": {},
   "outputs": [],
   "source": [
    "#Como la columna cylinders esta relacionada directamente al no haber cilindros, rellenamos tambien con 0\n",
    "data.cylinders.fillna(0.0,inplace=True)"
   ]
  },
  {
   "cell_type": "markdown",
   "metadata": {},
   "source": [
    "## Bonus: \n",
    "Now that we have filled in those null values, there are only two columns in the data set that still have null values: trany and drive. Use what you have learned in this section to investigate and potentially fill in the remaining null values."
   ]
  },
  {
   "cell_type": "code",
   "execution_count": 154,
   "metadata": {},
   "outputs": [
    {
     "data": {
      "text/plain": [
       "37838             Front-Wheel Drive\n",
       "37839             Front-Wheel Drive\n",
       "37840    4-Wheel or All-Wheel Drive\n",
       "37841    4-Wheel or All-Wheel Drive\n",
       "37842    4-Wheel or All-Wheel Drive\n",
       "Name: drive, dtype: object"
      ]
     },
     "execution_count": 154,
     "metadata": {},
     "output_type": "execute_result"
    }
   ],
   "source": [
    "data.drive.tail() "
   ]
  },
  {
   "cell_type": "code",
   "execution_count": 155,
   "metadata": {},
   "outputs": [
    {
     "data": {
      "text/plain": [
       "Int64Index([7138, 8144, 8147, 18217, 18218, 18219, 18220, 18221, 18222, 18223], dtype='int64')"
      ]
     },
     "execution_count": 155,
     "metadata": {},
     "output_type": "execute_result"
    }
   ],
   "source": [
    "bad_index=data.drive[data.drive.isna()].index   \n",
    "\n",
    "bad_index[:10]"
   ]
  },
  {
   "cell_type": "code",
   "execution_count": 156,
   "metadata": {},
   "outputs": [
    {
     "data": {
      "text/html": [
       "<div>\n",
       "<style scoped>\n",
       "    .dataframe tbody tr th:only-of-type {\n",
       "        vertical-align: middle;\n",
       "    }\n",
       "\n",
       "    .dataframe tbody tr th {\n",
       "        vertical-align: top;\n",
       "    }\n",
       "\n",
       "    .dataframe thead th {\n",
       "        text-align: right;\n",
       "    }\n",
       "</style>\n",
       "<table border=\"1\" class=\"dataframe\">\n",
       "  <thead>\n",
       "    <tr style=\"text-align: right;\">\n",
       "      <th></th>\n",
       "      <th>make</th>\n",
       "      <th>model</th>\n",
       "      <th>fuelType</th>\n",
       "      <th>drive</th>\n",
       "    </tr>\n",
       "  </thead>\n",
       "  <tbody>\n",
       "    <tr>\n",
       "      <th>7138</th>\n",
       "      <td>Nissan</td>\n",
       "      <td>Altra EV</td>\n",
       "      <td>Electricity</td>\n",
       "      <td>NaN</td>\n",
       "    </tr>\n",
       "    <tr>\n",
       "      <th>8144</th>\n",
       "      <td>Ford</td>\n",
       "      <td>Th!nk</td>\n",
       "      <td>Electricity</td>\n",
       "      <td>NaN</td>\n",
       "    </tr>\n",
       "    <tr>\n",
       "      <th>8147</th>\n",
       "      <td>Nissan</td>\n",
       "      <td>Hyper-Mini</td>\n",
       "      <td>Electricity</td>\n",
       "      <td>NaN</td>\n",
       "    </tr>\n",
       "    <tr>\n",
       "      <th>18217</th>\n",
       "      <td>Alfa Romeo</td>\n",
       "      <td>Spider Veloce 2000</td>\n",
       "      <td>Regular</td>\n",
       "      <td>NaN</td>\n",
       "    </tr>\n",
       "    <tr>\n",
       "      <th>18218</th>\n",
       "      <td>Bertone</td>\n",
       "      <td>X1/9</td>\n",
       "      <td>Regular</td>\n",
       "      <td>NaN</td>\n",
       "    </tr>\n",
       "    <tr>\n",
       "      <th>18219</th>\n",
       "      <td>Chevrolet</td>\n",
       "      <td>Corvette</td>\n",
       "      <td>Regular</td>\n",
       "      <td>NaN</td>\n",
       "    </tr>\n",
       "    <tr>\n",
       "      <th>18220</th>\n",
       "      <td>Chevrolet</td>\n",
       "      <td>Corvette</td>\n",
       "      <td>Regular</td>\n",
       "      <td>NaN</td>\n",
       "    </tr>\n",
       "    <tr>\n",
       "      <th>18221</th>\n",
       "      <td>Nissan</td>\n",
       "      <td>300ZX</td>\n",
       "      <td>Regular</td>\n",
       "      <td>NaN</td>\n",
       "    </tr>\n",
       "    <tr>\n",
       "      <th>18222</th>\n",
       "      <td>Nissan</td>\n",
       "      <td>300ZX</td>\n",
       "      <td>Regular</td>\n",
       "      <td>NaN</td>\n",
       "    </tr>\n",
       "    <tr>\n",
       "      <th>18223</th>\n",
       "      <td>Nissan</td>\n",
       "      <td>300ZX</td>\n",
       "      <td>Regular</td>\n",
       "      <td>NaN</td>\n",
       "    </tr>\n",
       "  </tbody>\n",
       "</table>\n",
       "</div>"
      ],
      "text/plain": [
       "             make               model     fuelType drive\n",
       "7138       Nissan            Altra EV  Electricity   NaN\n",
       "8144         Ford               Th!nk  Electricity   NaN\n",
       "8147       Nissan          Hyper-Mini  Electricity   NaN\n",
       "18217  Alfa Romeo  Spider Veloce 2000      Regular   NaN\n",
       "18218     Bertone                X1/9      Regular   NaN\n",
       "18219   Chevrolet            Corvette      Regular   NaN\n",
       "18220   Chevrolet            Corvette      Regular   NaN\n",
       "18221      Nissan               300ZX      Regular   NaN\n",
       "18222      Nissan               300ZX      Regular   NaN\n",
       "18223      Nissan               300ZX      Regular   NaN"
      ]
     },
     "execution_count": 156,
     "metadata": {},
     "output_type": "execute_result"
    }
   ],
   "source": [
    "data.iloc[bad_index][['make', 'model', 'fuelType', 'drive']].head(10) "
   ]
  },
  {
   "cell_type": "code",
   "execution_count": 157,
   "metadata": {},
   "outputs": [],
   "source": [
    "data.drive=data.drive.fillna(\"unkown\") #rellenamos la columna drive con \"unknown\""
   ]
  },
  {
   "cell_type": "code",
   "execution_count": 158,
   "metadata": {},
   "outputs": [
    {
     "data": {
      "text/plain": [
       "Int64Index([7138, 7139, 8143, 8144, 8146, 8147, 9212, 9213, 10329, 19097], dtype='int64')"
      ]
     },
     "execution_count": 158,
     "metadata": {},
     "output_type": "execute_result"
    }
   ],
   "source": [
    "#comprobamos datos para la columna trany\n",
    "\n",
    "bad_index=data.trany[data.trany.isna()].index\n",
    "bad_index[:10]"
   ]
  },
  {
   "cell_type": "code",
   "execution_count": 159,
   "metadata": {},
   "outputs": [
    {
     "data": {
      "text/html": [
       "<div>\n",
       "<style scoped>\n",
       "    .dataframe tbody tr th:only-of-type {\n",
       "        vertical-align: middle;\n",
       "    }\n",
       "\n",
       "    .dataframe tbody tr th {\n",
       "        vertical-align: top;\n",
       "    }\n",
       "\n",
       "    .dataframe thead th {\n",
       "        text-align: right;\n",
       "    }\n",
       "</style>\n",
       "<table border=\"1\" class=\"dataframe\">\n",
       "  <thead>\n",
       "    <tr style=\"text-align: right;\">\n",
       "      <th></th>\n",
       "      <th>make</th>\n",
       "      <th>model</th>\n",
       "      <th>fuelType</th>\n",
       "      <th>drive</th>\n",
       "    </tr>\n",
       "  </thead>\n",
       "  <tbody>\n",
       "    <tr>\n",
       "      <th>7138</th>\n",
       "      <td>Nissan</td>\n",
       "      <td>Altra EV</td>\n",
       "      <td>Electricity</td>\n",
       "      <td>unkown</td>\n",
       "    </tr>\n",
       "    <tr>\n",
       "      <th>7139</th>\n",
       "      <td>Toyota</td>\n",
       "      <td>RAV4 EV</td>\n",
       "      <td>Electricity</td>\n",
       "      <td>2-Wheel Drive</td>\n",
       "    </tr>\n",
       "    <tr>\n",
       "      <th>8143</th>\n",
       "      <td>Toyota</td>\n",
       "      <td>RAV4 EV</td>\n",
       "      <td>Electricity</td>\n",
       "      <td>2-Wheel Drive</td>\n",
       "    </tr>\n",
       "    <tr>\n",
       "      <th>8144</th>\n",
       "      <td>Ford</td>\n",
       "      <td>Th!nk</td>\n",
       "      <td>Electricity</td>\n",
       "      <td>unkown</td>\n",
       "    </tr>\n",
       "    <tr>\n",
       "      <th>8146</th>\n",
       "      <td>Ford</td>\n",
       "      <td>Explorer USPS Electric</td>\n",
       "      <td>Electricity</td>\n",
       "      <td>2-Wheel Drive</td>\n",
       "    </tr>\n",
       "    <tr>\n",
       "      <th>8147</th>\n",
       "      <td>Nissan</td>\n",
       "      <td>Hyper-Mini</td>\n",
       "      <td>Electricity</td>\n",
       "      <td>unkown</td>\n",
       "    </tr>\n",
       "    <tr>\n",
       "      <th>9212</th>\n",
       "      <td>Toyota</td>\n",
       "      <td>RAV4 EV</td>\n",
       "      <td>Electricity</td>\n",
       "      <td>2-Wheel Drive</td>\n",
       "    </tr>\n",
       "    <tr>\n",
       "      <th>9213</th>\n",
       "      <td>Ford</td>\n",
       "      <td>Explorer USPS Electric</td>\n",
       "      <td>Electricity</td>\n",
       "      <td>2-Wheel Drive</td>\n",
       "    </tr>\n",
       "    <tr>\n",
       "      <th>10329</th>\n",
       "      <td>Toyota</td>\n",
       "      <td>RAV4 EV</td>\n",
       "      <td>Electricity</td>\n",
       "      <td>2-Wheel Drive</td>\n",
       "    </tr>\n",
       "    <tr>\n",
       "      <th>19097</th>\n",
       "      <td>Ford</td>\n",
       "      <td>F150 Pickup 2WD</td>\n",
       "      <td>Regular</td>\n",
       "      <td>2-Wheel Drive</td>\n",
       "    </tr>\n",
       "  </tbody>\n",
       "</table>\n",
       "</div>"
      ],
      "text/plain": [
       "         make                   model     fuelType          drive\n",
       "7138   Nissan                Altra EV  Electricity         unkown\n",
       "7139   Toyota                 RAV4 EV  Electricity  2-Wheel Drive\n",
       "8143   Toyota                 RAV4 EV  Electricity  2-Wheel Drive\n",
       "8144     Ford                   Th!nk  Electricity         unkown\n",
       "8146     Ford  Explorer USPS Electric  Electricity  2-Wheel Drive\n",
       "8147   Nissan              Hyper-Mini  Electricity         unkown\n",
       "9212   Toyota                 RAV4 EV  Electricity  2-Wheel Drive\n",
       "9213     Ford  Explorer USPS Electric  Electricity  2-Wheel Drive\n",
       "10329  Toyota                 RAV4 EV  Electricity  2-Wheel Drive\n",
       "19097    Ford         F150 Pickup 2WD      Regular  2-Wheel Drive"
      ]
     },
     "execution_count": 159,
     "metadata": {},
     "output_type": "execute_result"
    }
   ],
   "source": [
    "data.iloc[bad_index][['make', 'model', 'fuelType', 'drive']].head(10) #trany nos da el tipo de traccion (delanteras,traseras o 4 ruedas)"
   ]
  },
  {
   "cell_type": "code",
   "execution_count": 160,
   "metadata": {},
   "outputs": [],
   "source": [
    "data.trany=data.trany.fillna(\"unknown\") #rellenamos con unknown"
   ]
  },
  {
   "cell_type": "code",
   "execution_count": 161,
   "metadata": {},
   "outputs": [
    {
     "data": {
      "text/plain": [
       "Series([], dtype: int64)"
      ]
     },
     "execution_count": 161,
     "metadata": {},
     "output_type": "execute_result"
    }
   ],
   "source": [
    "nan_cols=data.isna().sum()\n",
    "nan_cols[nan_cols>0]            #todos los nan rellenados"
   ]
  },
  {
   "cell_type": "markdown",
   "metadata": {},
   "source": [
    "# Incorrect Values\n",
    "\n",
    "In addition to null values, we also want to try to identify any values that seem incorrect. For example, in the previous section, we learned that a vehicle without cylinders should not have displacement and vice versa. Let's check to see if there are any cases that violate these rules."
   ]
  },
  {
   "cell_type": "code",
   "execution_count": 162,
   "metadata": {},
   "outputs": [
    {
     "data": {
      "text/plain": [
       "(37843, 70)"
      ]
     },
     "execution_count": 162,
     "metadata": {},
     "output_type": "execute_result"
    }
   ],
   "source": [
    "data.shape"
   ]
  },
  {
   "cell_type": "code",
   "execution_count": 163,
   "metadata": {},
   "outputs": [
    {
     "data": {
      "text/plain": [
       "123"
      ]
     },
     "execution_count": 163,
     "metadata": {},
     "output_type": "execute_result"
    }
   ],
   "source": [
    "num_cyls_cero=data.cylinders[data.cylinders==0]\n",
    "num_disp_cero=data.displ[data.displ==0]\n",
    "len(num_cyls_cero)\n"
   ]
  },
  {
   "cell_type": "code",
   "execution_count": 164,
   "metadata": {},
   "outputs": [
    {
     "data": {
      "text/plain": [
       "122"
      ]
     },
     "execution_count": 164,
     "metadata": {},
     "output_type": "execute_result"
    }
   ],
   "source": [
    "len(num_disp_cero)"
   ]
  },
  {
   "cell_type": "code",
   "execution_count": 165,
   "metadata": {},
   "outputs": [
    {
     "data": {
      "text/plain": [
       "Int64Index([21506], dtype='int64')"
      ]
     },
     "execution_count": 165,
     "metadata": {},
     "output_type": "execute_result"
    }
   ],
   "source": [
    "data.cylinders[(data.cylinders==0) & ~(data.displ==0)].index"
   ]
  },
  {
   "cell_type": "code",
   "execution_count": 167,
   "metadata": {},
   "outputs": [
    {
     "data": {
      "text/html": [
       "<div>\n",
       "<style scoped>\n",
       "    .dataframe tbody tr th:only-of-type {\n",
       "        vertical-align: middle;\n",
       "    }\n",
       "\n",
       "    .dataframe tbody tr th {\n",
       "        vertical-align: top;\n",
       "    }\n",
       "\n",
       "    .dataframe thead th {\n",
       "        text-align: right;\n",
       "    }\n",
       "</style>\n",
       "<table border=\"1\" class=\"dataframe\">\n",
       "  <thead>\n",
       "    <tr style=\"text-align: right;\">\n",
       "      <th></th>\n",
       "      <th>make</th>\n",
       "      <th>model</th>\n",
       "      <th>fuelType</th>\n",
       "      <th>drive</th>\n",
       "      <th>cylinders</th>\n",
       "      <th>displ</th>\n",
       "      <th>trany</th>\n",
       "    </tr>\n",
       "  </thead>\n",
       "  <tbody>\n",
       "    <tr>\n",
       "      <th>21506</th>\n",
       "      <td>Mazda</td>\n",
       "      <td>RX-7</td>\n",
       "      <td>Regular</td>\n",
       "      <td>Rear-Wheel Drive</td>\n",
       "      <td>0.0</td>\n",
       "      <td>1.3</td>\n",
       "      <td>Manual 5-spd</td>\n",
       "    </tr>\n",
       "  </tbody>\n",
       "</table>\n",
       "</div>"
      ],
      "text/plain": [
       "        make model fuelType             drive  cylinders  displ         trany\n",
       "21506  Mazda  RX-7  Regular  Rear-Wheel Drive        0.0    1.3  Manual 5-spd"
      ]
     },
     "execution_count": 167,
     "metadata": {},
     "output_type": "execute_result"
    }
   ],
   "source": [
    "data[(data[\"cylinders\"]==0) & (data[\"displ\"]!=0)][['make', 'model', 'fuelType', 'drive', \"cylinders\", \"displ\", \"trany\"]]"
   ]
  },
  {
   "cell_type": "markdown",
   "metadata": {},
   "source": [
    "Is there any row that seems to have strange values?"
   ]
  },
  {
   "cell_type": "markdown",
   "metadata": {},
   "source": [
    "Yes, row 21506 has 0 cylinders but has displacement so this means that the data is wrong as cars without cylinders dont have displacements"
   ]
  },
  {
   "cell_type": "markdown",
   "metadata": {},
   "source": [
    "Here we have identified a vehicle with a regular gasoline engine that reportedly does not have any cylinders but does have a value for displacement. "
   ]
  },
  {
   "cell_type": "markdown",
   "metadata": {},
   "source": [
    "The way we would correct this would be to either perform some domain research or ask a domain expert to find out how many actual cylinders this vehicle had. Alternatively, you can also try to look at similar vehicles in the data set and determine the most likely value for this field."
   ]
  },
  {
   "cell_type": "markdown",
   "metadata": {},
   "source": [
    "## Check similar rows"
   ]
  },
  {
   "cell_type": "markdown",
   "metadata": {},
   "source": [
    "Suppose that using one of the aforementioned methods, we found out that this vehicle actually has a 4 cylinder engine. Update that specific value in the data frame. "
   ]
  },
  {
   "cell_type": "code",
   "execution_count": 178,
   "metadata": {},
   "outputs": [],
   "source": [
    "\n",
    "data.loc[21506,\"cylinders\"]=4"
   ]
  },
  {
   "cell_type": "code",
   "execution_count": 179,
   "metadata": {},
   "outputs": [
    {
     "data": {
      "text/plain": [
       "4.0"
      ]
     },
     "execution_count": 179,
     "metadata": {},
     "output_type": "execute_result"
    }
   ],
   "source": [
    "data.loc[21506,\"cylinders\"]"
   ]
  },
  {
   "cell_type": "markdown",
   "metadata": {},
   "source": [
    "## Bonus: \n",
    " Try to find other values that might be incorrect in the data set based on what you know about automobiles and correct them."
   ]
  },
  {
   "cell_type": "code",
   "execution_count": 252,
   "metadata": {},
   "outputs": [
    {
     "data": {
      "text/plain": [
       "['Regular', 'Premium', 'Diesel', 'CNG', 'Gasoline or natural gas', ..., 'Midgrade', 'Premium Gas or Electricity', 'Regular Gas and Electricity', 'Premium and Electricity', 'Regular Gas or Electricity']\n",
       "Length: 14\n",
       "Categories (14, object): ['CNG', 'Diesel', 'Electricity', 'Gasoline or E85', ..., 'Premium or E85', 'Regular', 'Regular Gas and Electricity', 'Regular Gas or Electricity']"
      ]
     },
     "execution_count": 252,
     "metadata": {},
     "output_type": "execute_result"
    }
   ],
   "source": [
    "data.fuelType.unique()"
   ]
  },
  {
   "cell_type": "code",
   "execution_count": null,
   "metadata": {},
   "outputs": [],
   "source": []
  },
  {
   "cell_type": "markdown",
   "metadata": {},
   "source": [
    "# Low Variance Columns\n",
    "\n",
    "When analyzing data, we want the fields we are working with to be informative, and we will want to strip away any columns that don't have a lot of value to us. One easy way to do this is to identify columns that have low variance, where the majority of the values in the column are the same. Since there is not a lot of variability in these columns, they have the potential to not be as informative as columns that have a variety of different values in them.\n",
    "\n",
    "Let's try to identify columns where at least 90% of the values are the same so that we can remove them from our data set. To do this, we are going to create an empty list called low_variance that will eventually contain the names of columns that fit our criteria.\n",
    "\n",
    "We will then write a for loop that will take the minimum and the 90th percentile value for all the numeric columns in our data set (identified via the _get_numeric_data method). If the 90th percentile and the minimum are equal to each other, that means that at least 90% of the values in that column are the same and we will append that column name to our low_variance list. "
   ]
  },
  {
   "cell_type": "code",
   "execution_count": 180,
   "metadata": {},
   "outputs": [],
   "source": [
    "#your code\n",
    "low_variance = []\n",
    "\n",
    "for c in data.select_dtypes(include=np.number):  \n",
    "    \n",
    "    minimo=data[c].min()\n",
    "    \n",
    "    per_90=np.percentile(data[c], 90)\n",
    "    \n",
    "    if per_90==minimo:\n",
    "        \n",
    "        low_variance.append(c)\n"
   ]
  },
  {
   "cell_type": "markdown",
   "metadata": {},
   "source": [
    "This returned 34 columns that we could potentially eliminate due to not having high enough variability to be informative. Of course, before we do this, we should check the values that do exist in these fields to confirm that they are not very informative. Once they have been checked, we can use the the drop method like we did earlier in this lesson to remove those columns from our data frame.\n",
    "\n"
   ]
  },
  {
   "cell_type": "markdown",
   "metadata": {},
   "source": [
    "## Use the the drop method like we did earlier in this lesson to remove the non informative columns from our data frame."
   ]
  },
  {
   "cell_type": "code",
   "execution_count": 182,
   "metadata": {},
   "outputs": [
    {
     "data": {
      "text/plain": [
       "['charge120']"
      ]
     },
     "execution_count": 182,
     "metadata": {},
     "output_type": "execute_result"
    }
   ],
   "source": [
    "#eliminando constantes\n",
    "cte_cols=[]\n",
    "\n",
    "for c in data.select_dtypes(include=np.number):   # para cada columna numerica...\n",
    "    \n",
    "    \n",
    "    if data[c].std()==0:\n",
    "        cte_cols.append(c)\n",
    "        \n",
    "cte_cols\n"
   ]
  },
  {
   "cell_type": "code",
   "execution_count": 184,
   "metadata": {},
   "outputs": [],
   "source": [
    "data=data.drop(cte_cols, axis=1)"
   ]
  },
  {
   "cell_type": "markdown",
   "metadata": {},
   "source": [
    "# Extreme Values and Outliers\n",
    "\n",
    "Now that we have removed low variance columns, we should look for outliers, or extreme values, in the columns that remain. These outliers can influence our aggregations when we are analyzing data later, so we want to make sure we address them during our data cleaning stage.\n",
    "\n",
    "A common method for identifying outliers is one that leverages the interquartile range (IQR). Once the IQR is calculated, it is multiplied by a constant (typically 1.5) and lower and upper bounds are established at:\n",
    "\n",
    "    25th Percentile - (IQR x 1.5)\n",
    "    75th Percentile + (IQR x 1.5)\n",
    "\n",
    "Any values outside this range are potential outliers and should be investigated.\n",
    "\n",
    "Let's look at how we would do this for our data set using Python. We will use the Pandas describe function to easily calculate the 25th and 75th percentiles for every column and transpose the results so that we can easily reference the values in calculating the interquartile ranges.\n",
    "\n"
   ]
  },
  {
   "cell_type": "code",
   "execution_count": 186,
   "metadata": {},
   "outputs": [
    {
     "data": {
      "text/html": [
       "<div>\n",
       "<style scoped>\n",
       "    .dataframe tbody tr th:only-of-type {\n",
       "        vertical-align: middle;\n",
       "    }\n",
       "\n",
       "    .dataframe tbody tr th {\n",
       "        vertical-align: top;\n",
       "    }\n",
       "\n",
       "    .dataframe thead th {\n",
       "        text-align: right;\n",
       "    }\n",
       "</style>\n",
       "<table border=\"1\" class=\"dataframe\">\n",
       "  <thead>\n",
       "    <tr style=\"text-align: right;\">\n",
       "      <th></th>\n",
       "      <th>count</th>\n",
       "      <th>mean</th>\n",
       "      <th>std</th>\n",
       "      <th>min</th>\n",
       "      <th>25%</th>\n",
       "      <th>50%</th>\n",
       "      <th>75%</th>\n",
       "      <th>max</th>\n",
       "      <th>IQR</th>\n",
       "    </tr>\n",
       "  </thead>\n",
       "  <tbody>\n",
       "    <tr>\n",
       "      <th>barrels08</th>\n",
       "      <td>37843.0</td>\n",
       "      <td>17.532506</td>\n",
       "      <td>4.575950</td>\n",
       "      <td>0.06</td>\n",
       "      <td>14.33087</td>\n",
       "      <td>17.347895</td>\n",
       "      <td>20.600625</td>\n",
       "      <td>47.087143</td>\n",
       "      <td>6.269755</td>\n",
       "    </tr>\n",
       "    <tr>\n",
       "      <th>barrelsA08</th>\n",
       "      <td>37843.0</td>\n",
       "      <td>0.216169</td>\n",
       "      <td>1.141527</td>\n",
       "      <td>0.00</td>\n",
       "      <td>0.00000</td>\n",
       "      <td>0.000000</td>\n",
       "      <td>0.000000</td>\n",
       "      <td>18.311667</td>\n",
       "      <td>0.000000</td>\n",
       "    </tr>\n",
       "    <tr>\n",
       "      <th>charge240</th>\n",
       "      <td>37843.0</td>\n",
       "      <td>0.023531</td>\n",
       "      <td>0.427647</td>\n",
       "      <td>0.00</td>\n",
       "      <td>0.00000</td>\n",
       "      <td>0.000000</td>\n",
       "      <td>0.000000</td>\n",
       "      <td>12.000000</td>\n",
       "      <td>0.000000</td>\n",
       "    </tr>\n",
       "    <tr>\n",
       "      <th>city08</th>\n",
       "      <td>37843.0</td>\n",
       "      <td>17.941389</td>\n",
       "      <td>6.660360</td>\n",
       "      <td>6.00</td>\n",
       "      <td>15.00000</td>\n",
       "      <td>17.000000</td>\n",
       "      <td>20.000000</td>\n",
       "      <td>138.000000</td>\n",
       "      <td>5.000000</td>\n",
       "    </tr>\n",
       "    <tr>\n",
       "      <th>city08U</th>\n",
       "      <td>37843.0</td>\n",
       "      <td>4.042737</td>\n",
       "      <td>9.645820</td>\n",
       "      <td>0.00</td>\n",
       "      <td>0.00000</td>\n",
       "      <td>0.000000</td>\n",
       "      <td>0.000000</td>\n",
       "      <td>138.304000</td>\n",
       "      <td>0.000000</td>\n",
       "    </tr>\n",
       "  </tbody>\n",
       "</table>\n",
       "</div>"
      ],
      "text/plain": [
       "              count       mean       std   min       25%        50%  \\\n",
       "barrels08   37843.0  17.532506  4.575950  0.06  14.33087  17.347895   \n",
       "barrelsA08  37843.0   0.216169  1.141527  0.00   0.00000   0.000000   \n",
       "charge240   37843.0   0.023531  0.427647  0.00   0.00000   0.000000   \n",
       "city08      37843.0  17.941389  6.660360  6.00  15.00000  17.000000   \n",
       "city08U     37843.0   4.042737  9.645820  0.00   0.00000   0.000000   \n",
       "\n",
       "                  75%         max       IQR  \n",
       "barrels08   20.600625   47.087143  6.269755  \n",
       "barrelsA08   0.000000   18.311667  0.000000  \n",
       "charge240    0.000000   12.000000  0.000000  \n",
       "city08      20.000000  138.000000  5.000000  \n",
       "city08U      0.000000  138.304000  0.000000  "
      ]
     },
     "execution_count": 186,
     "metadata": {},
     "output_type": "execute_result"
    }
   ],
   "source": [
    "#Run this code\n",
    "stats = data.describe().transpose()\n",
    "stats['IQR'] = stats['75%'] - stats['25%']\n",
    "stats.head()"
   ]
  },
  {
   "cell_type": "markdown",
   "metadata": {},
   "source": [
    "We will then create an empty data frame called outliers with the same columns as our data set. Finally, we will loop through each column in the data calculating the lower and upper bounds, retrieving records where the value for that column falls outside the bounds we established, and appending those results to our outlier data frame."
   ]
  },
  {
   "cell_type": "code",
   "execution_count": 187,
   "metadata": {},
   "outputs": [
    {
     "data": {
      "text/html": [
       "<div>\n",
       "<style scoped>\n",
       "    .dataframe tbody tr th:only-of-type {\n",
       "        vertical-align: middle;\n",
       "    }\n",
       "\n",
       "    .dataframe tbody tr th {\n",
       "        vertical-align: top;\n",
       "    }\n",
       "\n",
       "    .dataframe thead th {\n",
       "        text-align: right;\n",
       "    }\n",
       "</style>\n",
       "<table border=\"1\" class=\"dataframe\">\n",
       "  <thead>\n",
       "    <tr style=\"text-align: right;\">\n",
       "      <th></th>\n",
       "      <th>barrels08</th>\n",
       "      <th>barrelsA08</th>\n",
       "      <th>charge240</th>\n",
       "      <th>city08</th>\n",
       "      <th>city08U</th>\n",
       "      <th>cityA08</th>\n",
       "      <th>cityA08U</th>\n",
       "      <th>cityCD</th>\n",
       "      <th>cityE</th>\n",
       "      <th>cityUF</th>\n",
       "      <th>...</th>\n",
       "      <th>VClass</th>\n",
       "      <th>year</th>\n",
       "      <th>youSaveSpend</th>\n",
       "      <th>charge240b</th>\n",
       "      <th>createdOn</th>\n",
       "      <th>modifiedOn</th>\n",
       "      <th>phevCity</th>\n",
       "      <th>phevHwy</th>\n",
       "      <th>phevComb</th>\n",
       "      <th>Outlier</th>\n",
       "    </tr>\n",
       "  </thead>\n",
       "  <tbody>\n",
       "    <tr>\n",
       "      <th>47</th>\n",
       "      <td>32.961</td>\n",
       "      <td>0.0</td>\n",
       "      <td>0.0</td>\n",
       "      <td>9</td>\n",
       "      <td>0.0</td>\n",
       "      <td>0</td>\n",
       "      <td>0.0</td>\n",
       "      <td>0.0</td>\n",
       "      <td>0.0</td>\n",
       "      <td>0.0</td>\n",
       "      <td>...</td>\n",
       "      <td>Vans</td>\n",
       "      <td>1985</td>\n",
       "      <td>-10000</td>\n",
       "      <td>0.0</td>\n",
       "      <td>Tue Jan 01 00:00:00 EST 2013</td>\n",
       "      <td>Tue Jan 01 00:00:00 EST 2013</td>\n",
       "      <td>0</td>\n",
       "      <td>0</td>\n",
       "      <td>0</td>\n",
       "      <td>barrels08</td>\n",
       "    </tr>\n",
       "    <tr>\n",
       "      <th>58</th>\n",
       "      <td>32.961</td>\n",
       "      <td>0.0</td>\n",
       "      <td>0.0</td>\n",
       "      <td>10</td>\n",
       "      <td>0.0</td>\n",
       "      <td>0</td>\n",
       "      <td>0.0</td>\n",
       "      <td>0.0</td>\n",
       "      <td>0.0</td>\n",
       "      <td>0.0</td>\n",
       "      <td>...</td>\n",
       "      <td>Vans</td>\n",
       "      <td>1985</td>\n",
       "      <td>-10000</td>\n",
       "      <td>0.0</td>\n",
       "      <td>Tue Jan 01 00:00:00 EST 2013</td>\n",
       "      <td>Tue Jan 01 00:00:00 EST 2013</td>\n",
       "      <td>0</td>\n",
       "      <td>0</td>\n",
       "      <td>0</td>\n",
       "      <td>barrels08</td>\n",
       "    </tr>\n",
       "    <tr>\n",
       "      <th>69</th>\n",
       "      <td>32.961</td>\n",
       "      <td>0.0</td>\n",
       "      <td>0.0</td>\n",
       "      <td>10</td>\n",
       "      <td>0.0</td>\n",
       "      <td>0</td>\n",
       "      <td>0.0</td>\n",
       "      <td>0.0</td>\n",
       "      <td>0.0</td>\n",
       "      <td>0.0</td>\n",
       "      <td>...</td>\n",
       "      <td>Vans</td>\n",
       "      <td>1985</td>\n",
       "      <td>-10000</td>\n",
       "      <td>0.0</td>\n",
       "      <td>Tue Jan 01 00:00:00 EST 2013</td>\n",
       "      <td>Tue Jan 01 00:00:00 EST 2013</td>\n",
       "      <td>0</td>\n",
       "      <td>0</td>\n",
       "      <td>0</td>\n",
       "      <td>barrels08</td>\n",
       "    </tr>\n",
       "    <tr>\n",
       "      <th>80</th>\n",
       "      <td>32.961</td>\n",
       "      <td>0.0</td>\n",
       "      <td>0.0</td>\n",
       "      <td>9</td>\n",
       "      <td>0.0</td>\n",
       "      <td>0</td>\n",
       "      <td>0.0</td>\n",
       "      <td>0.0</td>\n",
       "      <td>0.0</td>\n",
       "      <td>0.0</td>\n",
       "      <td>...</td>\n",
       "      <td>Vans</td>\n",
       "      <td>1985</td>\n",
       "      <td>-10000</td>\n",
       "      <td>0.0</td>\n",
       "      <td>Tue Jan 01 00:00:00 EST 2013</td>\n",
       "      <td>Tue Jan 01 00:00:00 EST 2013</td>\n",
       "      <td>0</td>\n",
       "      <td>0</td>\n",
       "      <td>0</td>\n",
       "      <td>barrels08</td>\n",
       "    </tr>\n",
       "    <tr>\n",
       "      <th>275</th>\n",
       "      <td>32.961</td>\n",
       "      <td>0.0</td>\n",
       "      <td>0.0</td>\n",
       "      <td>9</td>\n",
       "      <td>0.0</td>\n",
       "      <td>0</td>\n",
       "      <td>0.0</td>\n",
       "      <td>0.0</td>\n",
       "      <td>0.0</td>\n",
       "      <td>0.0</td>\n",
       "      <td>...</td>\n",
       "      <td>Standard Pickup Trucks</td>\n",
       "      <td>1993</td>\n",
       "      <td>-10000</td>\n",
       "      <td>0.0</td>\n",
       "      <td>Tue Jan 01 00:00:00 EST 2013</td>\n",
       "      <td>Tue Jan 01 00:00:00 EST 2013</td>\n",
       "      <td>0</td>\n",
       "      <td>0</td>\n",
       "      <td>0</td>\n",
       "      <td>barrels08</td>\n",
       "    </tr>\n",
       "  </tbody>\n",
       "</table>\n",
       "<p>5 rows × 70 columns</p>\n",
       "</div>"
      ],
      "text/plain": [
       "     barrels08  barrelsA08  charge240 city08  city08U cityA08  cityA08U  \\\n",
       "47      32.961         0.0        0.0      9      0.0       0       0.0   \n",
       "58      32.961         0.0        0.0     10      0.0       0       0.0   \n",
       "69      32.961         0.0        0.0     10      0.0       0       0.0   \n",
       "80      32.961         0.0        0.0      9      0.0       0       0.0   \n",
       "275     32.961         0.0        0.0      9      0.0       0       0.0   \n",
       "\n",
       "     cityCD  cityE  cityUF  ...                  VClass  year  youSaveSpend  \\\n",
       "47      0.0    0.0     0.0  ...                    Vans  1985        -10000   \n",
       "58      0.0    0.0     0.0  ...                    Vans  1985        -10000   \n",
       "69      0.0    0.0     0.0  ...                    Vans  1985        -10000   \n",
       "80      0.0    0.0     0.0  ...                    Vans  1985        -10000   \n",
       "275     0.0    0.0     0.0  ...  Standard Pickup Trucks  1993        -10000   \n",
       "\n",
       "     charge240b                     createdOn                    modifiedOn  \\\n",
       "47          0.0  Tue Jan 01 00:00:00 EST 2013  Tue Jan 01 00:00:00 EST 2013   \n",
       "58          0.0  Tue Jan 01 00:00:00 EST 2013  Tue Jan 01 00:00:00 EST 2013   \n",
       "69          0.0  Tue Jan 01 00:00:00 EST 2013  Tue Jan 01 00:00:00 EST 2013   \n",
       "80          0.0  Tue Jan 01 00:00:00 EST 2013  Tue Jan 01 00:00:00 EST 2013   \n",
       "275         0.0  Tue Jan 01 00:00:00 EST 2013  Tue Jan 01 00:00:00 EST 2013   \n",
       "\n",
       "    phevCity  phevHwy  phevComb    Outlier  \n",
       "47         0        0         0  barrels08  \n",
       "58         0        0         0  barrels08  \n",
       "69         0        0         0  barrels08  \n",
       "80         0        0         0  barrels08  \n",
       "275        0        0         0  barrels08  \n",
       "\n",
       "[5 rows x 70 columns]"
      ]
     },
     "execution_count": 187,
     "metadata": {},
     "output_type": "execute_result"
    }
   ],
   "source": [
    "#Run this code\n",
    "outliers = pd.DataFrame(columns=data.columns)\n",
    "\n",
    "for col in stats.index:\n",
    "    iqr = stats.at[col,'IQR']\n",
    "    cutoff = iqr * 1.5\n",
    "    lower = stats.at[col,'25%'] - cutoff\n",
    "    upper = stats.at[col,'75%'] + cutoff\n",
    "    results = data[(data[col] < lower) | \n",
    "                   (data[col] > upper)].copy()\n",
    "    results['Outlier'] = col\n",
    "    outliers = outliers.append(results)\n",
    "    \n",
    "\n",
    "outliers.head()"
   ]
  },
  {
   "cell_type": "markdown",
   "metadata": {},
   "source": [
    "Our outliers data frame should now be populated with records that you can investigate further and determine whether they should be kept in the data or dropped. The Outlier column we added before appending the results for the column to the outliers data frame will let you know what column in each record contained the outlier. If you find that this method is returning too many results, you can be more stringent with your cutoff criteria (e.g. increasing the constant by which you multiply the IQR to 3 instead of 1.5)."
   ]
  },
  {
   "cell_type": "markdown",
   "metadata": {},
   "source": [
    "# Data Type Correction\n",
    "\n",
    "One common problem that is often overlooked is incorrect data types. This typically occurs when there is a numeric variable that should actually be represented as a categorical variable. "
   ]
  },
  {
   "cell_type": "markdown",
   "metadata": {},
   "source": [
    "## Check the data type of each column"
   ]
  },
  {
   "cell_type": "code",
   "execution_count": 188,
   "metadata": {},
   "outputs": [
    {
     "name": "stdout",
     "output_type": "stream",
     "text": [
      "<class 'pandas.core.frame.DataFrame'>\n",
      "RangeIndex: 37843 entries, 0 to 37842\n",
      "Data columns (total 69 columns):\n",
      " #   Column           Non-Null Count  Dtype  \n",
      "---  ------           --------------  -----  \n",
      " 0   barrels08        37843 non-null  float64\n",
      " 1   barrelsA08       37843 non-null  float64\n",
      " 2   charge240        37843 non-null  float64\n",
      " 3   city08           37843 non-null  int64  \n",
      " 4   city08U          37843 non-null  float64\n",
      " 5   cityA08          37843 non-null  int64  \n",
      " 6   cityA08U         37843 non-null  float64\n",
      " 7   cityCD           37843 non-null  float64\n",
      " 8   cityE            37843 non-null  float64\n",
      " 9   cityUF           37843 non-null  float64\n",
      " 10  co2              37843 non-null  int64  \n",
      " 11  co2A             37843 non-null  int64  \n",
      " 12  co2TailpipeAGpm  37843 non-null  float64\n",
      " 13  co2TailpipeGpm   37843 non-null  float64\n",
      " 14  comb08           37843 non-null  int64  \n",
      " 15  comb08U          37843 non-null  float64\n",
      " 16  combA08          37843 non-null  int64  \n",
      " 17  combA08U         37843 non-null  float64\n",
      " 18  combE            37843 non-null  float64\n",
      " 19  combinedCD       37843 non-null  float64\n",
      " 20  combinedUF       37843 non-null  float64\n",
      " 21  cylinders        37843 non-null  float64\n",
      " 22  displ            37843 non-null  float64\n",
      " 23  drive            37843 non-null  object \n",
      " 24  engId            37843 non-null  int64  \n",
      " 25  feScore          37843 non-null  int64  \n",
      " 26  fuelCost08       37843 non-null  int64  \n",
      " 27  fuelCostA08      37843 non-null  int64  \n",
      " 28  fuelType         37843 non-null  object \n",
      " 29  fuelType1        37843 non-null  object \n",
      " 30  ghgScore         37843 non-null  int64  \n",
      " 31  ghgScoreA        37843 non-null  int64  \n",
      " 32  highway08        37843 non-null  int64  \n",
      " 33  highway08U       37843 non-null  float64\n",
      " 34  highwayA08       37843 non-null  int64  \n",
      " 35  highwayA08U      37843 non-null  float64\n",
      " 36  highwayCD        37843 non-null  float64\n",
      " 37  highwayE         37843 non-null  float64\n",
      " 38  highwayUF        37843 non-null  float64\n",
      " 39  hlv              37843 non-null  int64  \n",
      " 40  hpv              37843 non-null  int64  \n",
      " 41  id               37843 non-null  int64  \n",
      " 42  lv2              37843 non-null  int64  \n",
      " 43  lv4              37843 non-null  int64  \n",
      " 44  make             37843 non-null  object \n",
      " 45  model            37843 non-null  object \n",
      " 46  mpgData          37843 non-null  object \n",
      " 47  phevBlended      37843 non-null  bool   \n",
      " 48  pv2              37843 non-null  int64  \n",
      " 49  pv4              37843 non-null  int64  \n",
      " 50  range            37843 non-null  int64  \n",
      " 51  rangeCity        37843 non-null  float64\n",
      " 52  rangeCityA       37843 non-null  float64\n",
      " 53  rangeHwy         37843 non-null  float64\n",
      " 54  rangeHwyA        37843 non-null  float64\n",
      " 55  trany            37843 non-null  object \n",
      " 56  UCity            37843 non-null  float64\n",
      " 57  UCityA           37843 non-null  float64\n",
      " 58  UHighway         37843 non-null  float64\n",
      " 59  UHighwayA        37843 non-null  float64\n",
      " 60  VClass           37843 non-null  object \n",
      " 61  year             37843 non-null  int64  \n",
      " 62  youSaveSpend     37843 non-null  int64  \n",
      " 63  charge240b       37843 non-null  float64\n",
      " 64  createdOn        37843 non-null  object \n",
      " 65  modifiedOn       37843 non-null  object \n",
      " 66  phevCity         37843 non-null  int64  \n",
      " 67  phevHwy          37843 non-null  int64  \n",
      " 68  phevComb         37843 non-null  int64  \n",
      "dtypes: bool(1), float64(31), int64(27), object(10)\n",
      "memory usage: 19.7+ MB\n"
     ]
    }
   ],
   "source": [
    "##your code\n",
    "data.info()"
   ]
  },
  {
   "cell_type": "markdown",
   "metadata": {},
   "source": [
    "## Cleaning years\n",
    "Do you think column year is a continuous variable? Would you change it onto another dtype?"
   ]
  },
  {
   "cell_type": "code",
   "execution_count": 198,
   "metadata": {},
   "outputs": [
    {
     "data": {
      "text/plain": [
       "0        1985\n",
       "1        1985\n",
       "2        1985\n",
       "3        1985\n",
       "4        1993\n",
       "         ... \n",
       "37838    1993\n",
       "37839    1993\n",
       "37840    1993\n",
       "37841    1993\n",
       "37842    1993\n",
       "Name: year, Length: 37843, dtype: int16"
      ]
     },
     "execution_count": 198,
     "metadata": {},
     "output_type": "execute_result"
    }
   ],
   "source": [
    "data.year=pd.to_numeric(data.year, downcast='integer')\n",
    "data.year"
   ]
  },
  {
   "cell_type": "markdown",
   "metadata": {},
   "source": [
    "You can apply this technique to any column whose data type you would like to change."
   ]
  },
  {
   "cell_type": "code",
   "execution_count": 203,
   "metadata": {},
   "outputs": [
    {
     "name": "stdout",
     "output_type": "stream",
     "text": [
      "<class 'pandas.core.frame.DataFrame'>\n",
      "RangeIndex: 37843 entries, 0 to 37842\n",
      "Data columns (total 69 columns):\n",
      " #   Column           Non-Null Count  Dtype  \n",
      "---  ------           --------------  -----  \n",
      " 0   barrels08        37843 non-null  float64\n",
      " 1   barrelsA08       37843 non-null  float64\n",
      " 2   charge240        37843 non-null  float64\n",
      " 3   city08           37843 non-null  int64  \n",
      " 4   city08U          37843 non-null  float64\n",
      " 5   cityA08          37843 non-null  int64  \n",
      " 6   cityA08U         37843 non-null  float64\n",
      " 7   cityCD           37843 non-null  float64\n",
      " 8   cityE            37843 non-null  float64\n",
      " 9   cityUF           37843 non-null  float64\n",
      " 10  co2              37843 non-null  int64  \n",
      " 11  co2A             37843 non-null  int64  \n",
      " 12  co2TailpipeAGpm  37843 non-null  float64\n",
      " 13  co2TailpipeGpm   37843 non-null  float64\n",
      " 14  comb08           37843 non-null  int64  \n",
      " 15  comb08U          37843 non-null  float64\n",
      " 16  combA08          37843 non-null  int64  \n",
      " 17  combA08U         37843 non-null  float64\n",
      " 18  combE            37843 non-null  float64\n",
      " 19  combinedCD       37843 non-null  float64\n",
      " 20  combinedUF       37843 non-null  float64\n",
      " 21  cylinders        37843 non-null  float64\n",
      " 22  displ            37843 non-null  float64\n",
      " 23  drive            37843 non-null  object \n",
      " 24  engId            37843 non-null  int64  \n",
      " 25  feScore          37843 non-null  int64  \n",
      " 26  fuelCost08       37843 non-null  int64  \n",
      " 27  fuelCostA08      37843 non-null  int64  \n",
      " 28  fuelType         37843 non-null  object \n",
      " 29  fuelType1        37843 non-null  object \n",
      " 30  ghgScore         37843 non-null  int64  \n",
      " 31  ghgScoreA        37843 non-null  int64  \n",
      " 32  highway08        37843 non-null  int64  \n",
      " 33  highway08U       37843 non-null  float64\n",
      " 34  highwayA08       37843 non-null  int64  \n",
      " 35  highwayA08U      37843 non-null  float64\n",
      " 36  highwayCD        37843 non-null  float64\n",
      " 37  highwayE         37843 non-null  float64\n",
      " 38  highwayUF        37843 non-null  float64\n",
      " 39  hlv              37843 non-null  int64  \n",
      " 40  hpv              37843 non-null  int64  \n",
      " 41  id               37843 non-null  int64  \n",
      " 42  lv2              37843 non-null  int64  \n",
      " 43  lv4              37843 non-null  int64  \n",
      " 44  make             37843 non-null  object \n",
      " 45  model            37843 non-null  object \n",
      " 46  mpgData          37843 non-null  object \n",
      " 47  phevBlended      37843 non-null  bool   \n",
      " 48  pv2              37843 non-null  int64  \n",
      " 49  pv4              37843 non-null  int64  \n",
      " 50  range            37843 non-null  int64  \n",
      " 51  rangeCity        37843 non-null  float64\n",
      " 52  rangeCityA       37843 non-null  float64\n",
      " 53  rangeHwy         37843 non-null  float64\n",
      " 54  rangeHwyA        37843 non-null  float64\n",
      " 55  trany            37843 non-null  object \n",
      " 56  UCity            37843 non-null  float64\n",
      " 57  UCityA           37843 non-null  float64\n",
      " 58  UHighway         37843 non-null  float64\n",
      " 59  UHighwayA        37843 non-null  float64\n",
      " 60  VClass           37843 non-null  object \n",
      " 61  year             37843 non-null  int16  \n",
      " 62  youSaveSpend     37843 non-null  int64  \n",
      " 63  charge240b       37843 non-null  float64\n",
      " 64  createdOn        37843 non-null  object \n",
      " 65  modifiedOn       37843 non-null  object \n",
      " 66  phevCity         37843 non-null  int64  \n",
      " 67  phevHwy          37843 non-null  int64  \n",
      " 68  phevComb         37843 non-null  int64  \n",
      "dtypes: bool(1), float64(31), int16(1), int64(26), object(10)\n",
      "memory usage: 42.4 MB\n"
     ]
    }
   ],
   "source": [
    "data.info(memory_usage=\"deep\")"
   ]
  },
  {
   "cell_type": "code",
   "execution_count": 206,
   "metadata": {},
   "outputs": [
    {
     "name": "stdout",
     "output_type": "stream",
     "text": [
      "<class 'pandas.core.frame.DataFrame'>\n",
      "RangeIndex: 37843 entries, 0 to 37842\n",
      "Data columns (total 69 columns):\n",
      " #   Column           Non-Null Count  Dtype   \n",
      "---  ------           --------------  -----   \n",
      " 0   barrels08        37843 non-null  float64 \n",
      " 1   barrelsA08       37843 non-null  float64 \n",
      " 2   charge240        37843 non-null  float64 \n",
      " 3   city08           37843 non-null  int64   \n",
      " 4   city08U          37843 non-null  float64 \n",
      " 5   cityA08          37843 non-null  int64   \n",
      " 6   cityA08U         37843 non-null  float64 \n",
      " 7   cityCD           37843 non-null  float64 \n",
      " 8   cityE            37843 non-null  float64 \n",
      " 9   cityUF           37843 non-null  float64 \n",
      " 10  co2              37843 non-null  int64   \n",
      " 11  co2A             37843 non-null  int64   \n",
      " 12  co2TailpipeAGpm  37843 non-null  float64 \n",
      " 13  co2TailpipeGpm   37843 non-null  float64 \n",
      " 14  comb08           37843 non-null  int64   \n",
      " 15  comb08U          37843 non-null  float64 \n",
      " 16  combA08          37843 non-null  int64   \n",
      " 17  combA08U         37843 non-null  float64 \n",
      " 18  combE            37843 non-null  float64 \n",
      " 19  combinedCD       37843 non-null  float64 \n",
      " 20  combinedUF       37843 non-null  float64 \n",
      " 21  cylinders        37843 non-null  float64 \n",
      " 22  displ            37843 non-null  float64 \n",
      " 23  drive            37843 non-null  category\n",
      " 24  engId            37843 non-null  int64   \n",
      " 25  feScore          37843 non-null  int64   \n",
      " 26  fuelCost08       37843 non-null  int64   \n",
      " 27  fuelCostA08      37843 non-null  int64   \n",
      " 28  fuelType         37843 non-null  category\n",
      " 29  fuelType1        37843 non-null  category\n",
      " 30  ghgScore         37843 non-null  int64   \n",
      " 31  ghgScoreA        37843 non-null  int64   \n",
      " 32  highway08        37843 non-null  int64   \n",
      " 33  highway08U       37843 non-null  float64 \n",
      " 34  highwayA08       37843 non-null  int64   \n",
      " 35  highwayA08U      37843 non-null  float64 \n",
      " 36  highwayCD        37843 non-null  float64 \n",
      " 37  highwayE         37843 non-null  float64 \n",
      " 38  highwayUF        37843 non-null  float64 \n",
      " 39  hlv              37843 non-null  int64   \n",
      " 40  hpv              37843 non-null  int64   \n",
      " 41  id               37843 non-null  int64   \n",
      " 42  lv2              37843 non-null  int64   \n",
      " 43  lv4              37843 non-null  int64   \n",
      " 44  make             37843 non-null  category\n",
      " 45  model            37843 non-null  category\n",
      " 46  mpgData          37843 non-null  category\n",
      " 47  phevBlended      37843 non-null  bool    \n",
      " 48  pv2              37843 non-null  int64   \n",
      " 49  pv4              37843 non-null  int64   \n",
      " 50  range            37843 non-null  int64   \n",
      " 51  rangeCity        37843 non-null  float64 \n",
      " 52  rangeCityA       37843 non-null  float64 \n",
      " 53  rangeHwy         37843 non-null  float64 \n",
      " 54  rangeHwyA        37843 non-null  float64 \n",
      " 55  trany            37843 non-null  category\n",
      " 56  UCity            37843 non-null  float64 \n",
      " 57  UCityA           37843 non-null  float64 \n",
      " 58  UHighway         37843 non-null  float64 \n",
      " 59  UHighwayA        37843 non-null  float64 \n",
      " 60  VClass           37843 non-null  category\n",
      " 61  year             37843 non-null  int16   \n",
      " 62  youSaveSpend     37843 non-null  int64   \n",
      " 63  charge240b       37843 non-null  float64 \n",
      " 64  createdOn        37843 non-null  category\n",
      " 65  modifiedOn       37843 non-null  category\n",
      " 66  phevCity         37843 non-null  int64   \n",
      " 67  phevHwy          37843 non-null  int64   \n",
      " 68  phevComb         37843 non-null  int64   \n",
      "dtypes: bool(1), category(10), float64(31), int16(1), int64(26)\n",
      "memory usage: 17.5 MB\n"
     ]
    }
   ],
   "source": [
    "#cambiamos los object a category\n",
    "for c in data.select_dtypes('object').columns:\n",
    "    \n",
    "    data[c]=data[c].astype('category')\n",
    "    \n",
    "data.info(memory_usage='deep')\n"
   ]
  },
  {
   "cell_type": "code",
   "execution_count": 207,
   "metadata": {},
   "outputs": [
    {
     "name": "stdout",
     "output_type": "stream",
     "text": [
      "<class 'pandas.core.frame.DataFrame'>\n",
      "RangeIndex: 37843 entries, 0 to 37842\n",
      "Data columns (total 69 columns):\n",
      " #   Column           Non-Null Count  Dtype   \n",
      "---  ------           --------------  -----   \n",
      " 0   barrels08        37843 non-null  float64 \n",
      " 1   barrelsA08       37843 non-null  float64 \n",
      " 2   charge240        37843 non-null  float64 \n",
      " 3   city08           37843 non-null  int16   \n",
      " 4   city08U          37843 non-null  float64 \n",
      " 5   cityA08          37843 non-null  int8    \n",
      " 6   cityA08U         37843 non-null  float64 \n",
      " 7   cityCD           37843 non-null  float64 \n",
      " 8   cityE            37843 non-null  float64 \n",
      " 9   cityUF           37843 non-null  float64 \n",
      " 10  co2              37843 non-null  int16   \n",
      " 11  co2A             37843 non-null  int16   \n",
      " 12  co2TailpipeAGpm  37843 non-null  float64 \n",
      " 13  co2TailpipeGpm   37843 non-null  float64 \n",
      " 14  comb08           37843 non-null  int8    \n",
      " 15  comb08U          37843 non-null  float64 \n",
      " 16  combA08          37843 non-null  int8    \n",
      " 17  combA08U         37843 non-null  float64 \n",
      " 18  combE            37843 non-null  float64 \n",
      " 19  combinedCD       37843 non-null  float64 \n",
      " 20  combinedUF       37843 non-null  float64 \n",
      " 21  cylinders        37843 non-null  float64 \n",
      " 22  displ            37843 non-null  float64 \n",
      " 23  drive            37843 non-null  category\n",
      " 24  engId            37843 non-null  int32   \n",
      " 25  feScore          37843 non-null  int8    \n",
      " 26  fuelCost08       37843 non-null  int16   \n",
      " 27  fuelCostA08      37843 non-null  int16   \n",
      " 28  fuelType         37843 non-null  category\n",
      " 29  fuelType1        37843 non-null  category\n",
      " 30  ghgScore         37843 non-null  int8    \n",
      " 31  ghgScoreA        37843 non-null  int8    \n",
      " 32  highway08        37843 non-null  int8    \n",
      " 33  highway08U       37843 non-null  float64 \n",
      " 34  highwayA08       37843 non-null  int8    \n",
      " 35  highwayA08U      37843 non-null  float64 \n",
      " 36  highwayCD        37843 non-null  float64 \n",
      " 37  highwayE         37843 non-null  float64 \n",
      " 38  highwayUF        37843 non-null  float64 \n",
      " 39  hlv              37843 non-null  int8    \n",
      " 40  hpv              37843 non-null  int16   \n",
      " 41  id               37843 non-null  int32   \n",
      " 42  lv2              37843 non-null  int8    \n",
      " 43  lv4              37843 non-null  int8    \n",
      " 44  make             37843 non-null  category\n",
      " 45  model            37843 non-null  category\n",
      " 46  mpgData          37843 non-null  category\n",
      " 47  phevBlended      37843 non-null  bool    \n",
      " 48  pv2              37843 non-null  int16   \n",
      " 49  pv4              37843 non-null  int16   \n",
      " 50  range            37843 non-null  int16   \n",
      " 51  rangeCity        37843 non-null  float64 \n",
      " 52  rangeCityA       37843 non-null  float64 \n",
      " 53  rangeHwy         37843 non-null  float64 \n",
      " 54  rangeHwyA        37843 non-null  float64 \n",
      " 55  trany            37843 non-null  category\n",
      " 56  UCity            37843 non-null  float64 \n",
      " 57  UCityA           37843 non-null  float64 \n",
      " 58  UHighway         37843 non-null  float64 \n",
      " 59  UHighwayA        37843 non-null  float64 \n",
      " 60  VClass           37843 non-null  category\n",
      " 61  year             37843 non-null  int16   \n",
      " 62  youSaveSpend     37843 non-null  int16   \n",
      " 63  charge240b       37843 non-null  float64 \n",
      " 64  createdOn        37843 non-null  category\n",
      " 65  modifiedOn       37843 non-null  category\n",
      " 66  phevCity         37843 non-null  int8    \n",
      " 67  phevHwy          37843 non-null  int8    \n",
      " 68  phevComb         37843 non-null  int8    \n",
      "dtypes: bool(1), category(10), float64(31), int16(11), int32(2), int8(14)\n",
      "memory usage: 11.5 MB\n"
     ]
    }
   ],
   "source": [
    "#hacemos downcast a los valores numéricos\n",
    "\n",
    "for c in data.select_dtypes('integer').columns:\n",
    "    \n",
    "    data[c]=pd.to_numeric(data[c], downcast='integer')\n",
    "    \n",
    "data.info(memory_usage='deep')"
   ]
  },
  {
   "cell_type": "markdown",
   "metadata": {},
   "source": [
    "# Cleaning Text and Removing Special Characters\n",
    "\n",
    "The presence of special characters in our fields has the potential to make analyzing our data challenging. Imagine not being able to perform calculations on a numeric field because it was currently represented as an object data type due to the fact that it had a dollar sign ($) in it. \n",
    "\n",
    "Similarly, imagine having a categorical field where you could not group records that belong in the same group together because in one field you are grouping by, terms that refer to the same thing are sometimes hyphenated. In cases like this, it is necessary to remove special characters so that we can properly analyze the data.\n",
    "\n",
    "In our vehicles data set, the trany field has several special characters (parentheses, hyphens, etc.). Check the unique values and clean the column.\n",
    "\n",
    "hint: check the `replace` function"
   ]
  },
  {
   "cell_type": "code",
   "execution_count": 210,
   "metadata": {},
   "outputs": [
    {
     "data": {
      "text/plain": [
       "Automatic 4-spd                     11042\n",
       "Manual 5-spd                         8311\n",
       "Automatic 3-spd                      3151\n",
       "Automatic (S6)                       2638\n",
       "Manual 6-spd                         2429\n",
       "Automatic 5-spd                      2184\n",
       "Manual 4-spd                         1483\n",
       "Automatic 6-spd                      1432\n",
       "Automatic (S8)                        960\n",
       "Automatic (S5)                        824\n",
       "Automatic (variable gear ratios)      681\n",
       "Automatic 7-spd                       663\n",
       "Automatic (S7)                        261\n",
       "Auto(AM-S7)                           256\n",
       "Automatic 8-spd                       243\n",
       "Automatic (S4)                        233\n",
       "Auto(AM7)                             160\n",
       "Auto(AV-S6)                           145\n",
       "Auto(AM6)                             110\n",
       "Automatic (A1)                        109\n",
       "Auto(AM-S6)                            92\n",
       "Automatic 9-spd                        90\n",
       "Manual 3-spd                           77\n",
       "Manual 7-spd                           68\n",
       "Auto(AV-S7)                            63\n",
       "Auto(AV-S8)                            26\n",
       "Automatic (S9)                         26\n",
       "Manual 4-spd Doubled                   17\n",
       "Auto(AM5)                              12\n",
       "unknown                                11\n",
       "Automatic (AV-S6)                       9\n",
       "Auto(AM-S8)                             6\n",
       "Auto(AM8)                               5\n",
       "Automatic (AV)                          4\n",
       "Automatic (A6)                          4\n",
       "Manual(M7)                              3\n",
       "Auto(L3)                                2\n",
       "Auto (AV)                               2\n",
       "Auto(L4)                                2\n",
       "Automatic (AM5)                         2\n",
       "Auto(AM-S9)                             1\n",
       "Manual 5 spd                            1\n",
       "Automatic 6spd                          1\n",
       "Auto(A1)                                1\n",
       "Auto (AV-S8)                            1\n",
       "Automatic (AM6)                         1\n",
       "Auto (AV-S6)                            1\n",
       "Name: trany, dtype: int64"
      ]
     },
     "execution_count": 210,
     "metadata": {},
     "output_type": "execute_result"
    }
   ],
   "source": [
    "data.trany.value_counts()"
   ]
  },
  {
   "cell_type": "code",
   "execution_count": 215,
   "metadata": {},
   "outputs": [
    {
     "name": "stderr",
     "output_type": "stream",
     "text": [
      "/var/folders/tr/7ry1klqj22sglvfj6nq3g5kw0000gn/T/ipykernel_79752/1843120003.py:3: FutureWarning: The default value of regex will change from True to False in a future version.\n",
      "  data.trany=data.trany.str.replace('Auto\\(', 'Auto')\n",
      "/var/folders/tr/7ry1klqj22sglvfj6nq3g5kw0000gn/T/ipykernel_79752/1843120003.py:4: FutureWarning: The default value of regex will change from True to False in a future version.\n",
      "  data.trany=data.trany.str.replace('Manual\\(', 'Manual')  # el \\ es espacio o no espacio\n",
      "/var/folders/tr/7ry1klqj22sglvfj6nq3g5kw0000gn/T/ipykernel_79752/1843120003.py:5: FutureWarning: The default value of regex will change from True to False in a future version.\n",
      "  data.trany=data.trany.str.replace('\\(', '')\n",
      "/var/folders/tr/7ry1klqj22sglvfj6nq3g5kw0000gn/T/ipykernel_79752/1843120003.py:6: FutureWarning: The default value of regex will change from True to False in a future version.\n",
      "  data.trany=data.trany.str.replace('\\)', '')\n"
     ]
    }
   ],
   "source": [
    "data.trany=data.trany.str.replace('-', '')   # limpieza de strings en una serie\n",
    "data.trany=data.trany.str.replace('Automatic', 'Auto')\n",
    "data.trany=data.trany.str.replace('Auto\\(', 'Auto')\n",
    "data.trany=data.trany.str.replace('Manual\\(', 'Manual')  # el \\ es espacio o no espacio\n",
    "data.trany=data.trany.str.replace('\\(', '')\n",
    "data.trany=data.trany.str.replace('\\)', '')"
   ]
  },
  {
   "cell_type": "code",
   "execution_count": 216,
   "metadata": {},
   "outputs": [
    {
     "data": {
      "text/plain": [
       "Auto 4spd                    11042\n",
       "Manual 5spd                   8311\n",
       "Auto 3spd                     3151\n",
       "Auto S6                       2638\n",
       "Manual 6spd                   2429\n",
       "Auto 5spd                     2184\n",
       "Manual 4spd                   1483\n",
       "Auto 6spd                     1433\n",
       "Auto S8                        960\n",
       "Auto S5                        824\n",
       "Auto variable gear ratios      681\n",
       "Auto 7spd                      663\n",
       "Auto S7                        261\n",
       "AutoAMS7                       256\n",
       "Auto 8spd                      243\n",
       "Auto S4                        233\n",
       "AutoAM7                        160\n",
       "AutoAVS6                       145\n",
       "AutoAM6                        110\n",
       "Auto A1                        109\n",
       "AutoAMS6                        92\n",
       "Auto 9spd                       90\n",
       "Manual 3spd                     77\n",
       "Manual 7spd                     68\n",
       "AutoAVS7                        63\n",
       "Auto S9                         26\n",
       "AutoAVS8                        26\n",
       "Manual 4spd Doubled             17\n",
       "AutoAM5                         12\n",
       "unknown                         11\n",
       "Auto AVS6                       10\n",
       "Auto AV                          6\n",
       "AutoAMS8                         6\n",
       "AutoAM8                          5\n",
       "Auto A6                          4\n",
       "ManualM7                         3\n",
       "AutoL3                           2\n",
       "AutoL4                           2\n",
       "Auto AM5                         2\n",
       "Auto AVS8                        1\n",
       "Auto AM6                         1\n",
       "Manual 5 spd                     1\n",
       "AutoA1                           1\n",
       "AutoAMS9                         1\n",
       "Name: trany, dtype: int64"
      ]
     },
     "execution_count": 216,
     "metadata": {},
     "output_type": "execute_result"
    }
   ],
   "source": [
    "data.trany.value_counts()"
   ]
  },
  {
   "cell_type": "code",
   "execution_count": 225,
   "metadata": {},
   "outputs": [],
   "source": [
    "import re\n"
   ]
  },
  {
   "cell_type": "code",
   "execution_count": 231,
   "metadata": {},
   "outputs": [],
   "source": [
    "data[\"speeds\"]=data.trany.str.contains(\"\\d\",regex=True)\n"
   ]
  },
  {
   "cell_type": "code",
   "execution_count": 219,
   "metadata": {},
   "outputs": [
    {
     "data": {
      "text/plain": [
       "0        True\n",
       "1        True\n",
       "2        True\n",
       "3        True\n",
       "4        True\n",
       "         ... \n",
       "37838    True\n",
       "37839    True\n",
       "37840    True\n",
       "37841    True\n",
       "37842    True\n",
       "Name: speeds, Length: 37843, dtype: bool"
      ]
     },
     "execution_count": 219,
     "metadata": {},
     "output_type": "execute_result"
    }
   ],
   "source": [
    "data.speeds"
   ]
  },
  {
   "cell_type": "markdown",
   "metadata": {},
   "source": [
    "As you can see, we now have no special characters, consistent naming, and proper spacing. We started out with 47 unique values in this column, and using this technique, we were able to reduce the number of unique values to 39.\n",
    "\n",
    "\n",
    "\n",
    "# Finding and Removing Duplicates\n",
    "\n",
    "The final topic we are going to cover in this lab is how to identify and remove duplicate rows (or rows that refer to the same entity) in our data. When trying to identify duplicates, we will use the columns (or attributes) of the data to help us determine what entities are similar enough to be considered the same entity. We want to start with all the columns we currently have available to us and work our way toward a lesser number of attributes in an intuitive fashion. In this process, the act of dropping duplicated records is easy, but identifying the correct attributes for comparison and which records to drop is sometimes quite challenging.\n",
    "\n",
    "The first thing we will do is attempt to drop any duplicate records, considering all the columns we currently have in the data set. \n",
    "\n",
    "Pandas provides us with the ability to do that via the `drop_duplicates method`."
   ]
  },
  {
   "cell_type": "markdown",
   "metadata": {},
   "source": [
    "## Drop duplicate rows that are completely equal"
   ]
  },
  {
   "cell_type": "code",
   "execution_count": 194,
   "metadata": {},
   "outputs": [
    {
     "data": {
      "text/plain": [
       "True"
      ]
     },
     "execution_count": 194,
     "metadata": {},
     "output_type": "execute_result"
    }
   ],
   "source": [
    "len(data.drop_duplicates())==len(data)\n",
    " #no hay duplicados"
   ]
  },
  {
   "cell_type": "markdown",
   "metadata": {},
   "source": [
    "This tells us that there were no records that matched exactly across all columns. However, if we reduce the number of columns in our data that we are interested in, we can try again and have a higher likelihood of finding duplicate records. "
   ]
  },
  {
   "cell_type": "markdown",
   "metadata": {},
   "source": [
    "## Select a subset of columns, remove all other columns, and then use the drop_duplicates method to drop any duplicate records based on the remaining columns."
   ]
  },
  {
   "cell_type": "code",
   "execution_count": 237,
   "metadata": {},
   "outputs": [],
   "source": [
    "data[['make', 'model', 'fuelType', 'drive', \"cylinders\", \"displ\", \"trany\"]].head()\n",
    "len(data[['make', 'model', 'fuelType', 'drive', \"cylinders\", \"displ\", \"trany\"]].drop_duplicates())==len(data)\n",
    "data.shape\n",
    "data_new=data[['make', 'model', 'fuelType', 'drive', \"cylinders\", \"displ\", \"trany\"]].drop_duplicates()\n"
   ]
  },
  {
   "cell_type": "code",
   "execution_count": 243,
   "metadata": {},
   "outputs": [
    {
     "data": {
      "text/plain": [
       "(37843, 70)"
      ]
     },
     "execution_count": 243,
     "metadata": {},
     "output_type": "execute_result"
    }
   ],
   "source": [
    "data.shape"
   ]
  },
  {
   "cell_type": "markdown",
   "metadata": {},
   "source": [
    "With the reduced number of columns, we were able to identify and drop 885 duplicate records."
   ]
  },
  {
   "cell_type": "code",
   "execution_count": 239,
   "metadata": {},
   "outputs": [
    {
     "data": {
      "text/plain": [
       "(11751, 7)"
      ]
     },
     "execution_count": 239,
     "metadata": {},
     "output_type": "execute_result"
    }
   ],
   "source": [
    "data_new.shape"
   ]
  },
  {
   "cell_type": "code",
   "execution_count": 244,
   "metadata": {},
   "outputs": [
    {
     "name": "stderr",
     "output_type": "stream",
     "text": [
      "/Users/danigomezlechonbarrachina/opt/anaconda3/lib/python3.9/site-packages/pandas/util/_decorators.py:311: SettingWithCopyWarning: \n",
      "A value is trying to be set on a copy of a slice from a DataFrame\n",
      "\n",
      "See the caveats in the documentation: https://pandas.pydata.org/pandas-docs/stable/user_guide/indexing.html#returning-a-view-versus-a-copy\n",
      "  return func(*args, **kwargs)\n"
     ]
    }
   ],
   "source": [
    "data[['make', 'model', 'fuelType', 'drive', \"cylinders\", \"displ\", \"trany\"]].drop_duplicates(inplace=True)"
   ]
  },
  {
   "cell_type": "markdown",
   "metadata": {},
   "source": [
    "# Export clean dataset\n",
    "Export your bright new clean dataset into a csv file and store it in data folder."
   ]
  },
  {
   "cell_type": "code",
   "execution_count": 249,
   "metadata": {},
   "outputs": [],
   "source": [
    "data.to_csv(\"../data/clean_data.csv\", index=False)"
   ]
  },
  {
   "cell_type": "code",
   "execution_count": 245,
   "metadata": {},
   "outputs": [
    {
     "data": {
      "text/plain": [
       "'/Users/danigomezlechonbarrachina/Desktop/Labs/2.4-lab-data-cleaning/your-code'"
      ]
     },
     "execution_count": 245,
     "metadata": {},
     "output_type": "execute_result"
    }
   ],
   "source": [
    "%pwd\n"
   ]
  },
  {
   "cell_type": "code",
   "execution_count": null,
   "metadata": {},
   "outputs": [],
   "source": []
  }
 ],
 "metadata": {
  "kernelspec": {
   "display_name": "Python 3 (ipykernel)",
   "language": "python",
   "name": "python3"
  },
  "language_info": {
   "codemirror_mode": {
    "name": "ipython",
    "version": 3
   },
   "file_extension": ".py",
   "mimetype": "text/x-python",
   "name": "python",
   "nbconvert_exporter": "python",
   "pygments_lexer": "ipython3",
   "version": "3.9.7"
  },
  "toc": {
   "base_numbering": 1,
   "nav_menu": {},
   "number_sections": true,
   "sideBar": true,
   "skip_h1_title": false,
   "title_cell": "Table of Contents",
   "title_sidebar": "Contents",
   "toc_cell": true,
   "toc_position": {},
   "toc_section_display": true,
   "toc_window_display": false
  },
  "varInspector": {
   "cols": {
    "lenName": 16,
    "lenType": 16,
    "lenVar": 40
   },
   "kernels_config": {
    "python": {
     "delete_cmd_postfix": "",
     "delete_cmd_prefix": "del ",
     "library": "var_list.py",
     "varRefreshCmd": "print(var_dic_list())"
    },
    "r": {
     "delete_cmd_postfix": ") ",
     "delete_cmd_prefix": "rm(",
     "library": "var_list.r",
     "varRefreshCmd": "cat(var_dic_list()) "
    }
   },
   "types_to_exclude": [
    "module",
    "function",
    "builtin_function_or_method",
    "instance",
    "_Feature"
   ],
   "window_display": false
  }
 },
 "nbformat": 4,
 "nbformat_minor": 2
}
